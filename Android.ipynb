{
 "cells": [
  {
   "cell_type": "markdown",
   "metadata": {
    "id": "RoSRbBBe5DKJ"
   },
   "source": [
    "# Human Activity Recognition\n",
    "\n",
    "### Step 1: Download the dataset from link \n",
    "\n",
    "https://www.utwente.nl/en/eemcs/ps/dataset-folder/sensors-activity-recognition-dataset-shoaib.rar\n"
   ]
  },
  {
   "cell_type": "code",
   "execution_count": null,
   "metadata": {},
   "outputs": [],
   "source": [
    "!pip install tensorflow-gpu==2.3.0\n",
    "!pip install keras==2.4.3\n",
    "!pip install numpy==1.19.5\n",
    "!pip install matplotlib==3.3.3"
   ]
  },
  {
   "cell_type": "code",
   "execution_count": 1,
   "metadata": {
    "colab": {
     "base_uri": "https://localhost:8080/"
    },
    "id": "AqEuKfF55DKV",
    "outputId": "676e6b12-49a2-4499-aa04-bfb866f422b9"
   },
   "outputs": [
    {
     "name": "stdout",
     "output_type": "stream",
     "text": [
      "Downloading dataset\n",
      "Download completed\n"
     ]
    }
   ],
   "source": [
    "import urllib.request\n",
    "\n",
    "print('Downloading dataset')\n",
    "\n",
    "url = 'https://www.utwente.nl/en/eemcs/ps/dataset-folder/sensors-activity-recognition-dataset-shoaib.rar'\n",
    "urllib.request.urlretrieve(url, 'HAR_dataset.rar')\n",
    "\n",
    "print('Download completed')"
   ]
  },
  {
   "cell_type": "markdown",
   "metadata": {
    "id": "ceompSvl5DKX"
   },
   "source": [
    "### Step 2: Extract in the working directory\n"
   ]
  },
  {
   "cell_type": "code",
   "execution_count": 2,
   "metadata": {
    "colab": {
     "base_uri": "https://localhost:8080/"
    },
    "id": "4rM0tfHD5DKh",
    "outputId": "ad8e079c-0ebd-471c-e37d-53c8b09fc978"
   },
   "outputs": [
    {
     "name": "stdout",
     "output_type": "stream",
     "text": [
      "Collecting pyunpack\n",
      "  Downloading https://files.pythonhosted.org/packages/83/29/020436b1d8e96e5f26fa282b9c3c13a3b456a36b9ea2edc87c5fed008369/pyunpack-0.2.2-py2.py3-none-any.whl\n",
      "Collecting entrypoint2\n",
      "  Downloading https://files.pythonhosted.org/packages/8a/b0/8ef4b1d8be02448d164c52466530059d7f57218655d21309a0c4236d7454/entrypoint2-0.2.4-py3-none-any.whl\n",
      "Collecting easyprocess\n",
      "  Downloading https://files.pythonhosted.org/packages/48/3c/75573613641c90c6d094059ac28adb748560d99bd27ee6f80cce398f404e/EasyProcess-0.3-py2.py3-none-any.whl\n",
      "Installing collected packages: entrypoint2, easyprocess, pyunpack\n",
      "Successfully installed easyprocess-0.3 entrypoint2-0.2.4 pyunpack-0.2.2\n",
      "Collecting patool\n",
      "\u001b[?25l  Downloading https://files.pythonhosted.org/packages/43/94/52243ddff508780dd2d8110964320ab4851134a55ab102285b46e740f76a/patool-1.12-py2.py3-none-any.whl (77kB)\n",
      "\u001b[K     |████████████████████████████████| 81kB 5.5MB/s \n",
      "\u001b[?25hInstalling collected packages: patool\n",
      "Successfully installed patool-1.12\n"
     ]
    }
   ],
   "source": [
    "!pip3 install pyunpack\n",
    "!pip3 install patool\n",
    "from pyunpack import Archive\n",
    "Archive('HAR_dataset.rar').extractall('.')"
   ]
  },
  {
   "cell_type": "markdown",
   "metadata": {
    "id": "lLcjp6oH5DKi"
   },
   "source": [
    "### Step 3: Download Libraries\n"
   ]
  },
  {
   "cell_type": "code",
   "execution_count": 1,
   "metadata": {
    "colab": {
     "base_uri": "https://localhost:8080/",
     "height": 35
    },
    "id": "DDFZRtEtHq2h",
    "outputId": "5e603f76-dc2f-4a12-9f3f-987bf781d9b1"
   },
   "outputs": [
    {
     "data": {
      "text/plain": [
       "'2.10.0'"
      ]
     },
     "execution_count": 1,
     "metadata": {},
     "output_type": "execute_result"
    }
   ],
   "source": [
    "import tensorflow as tf\n",
    "tf.__version__"
   ]
  },
  {
   "cell_type": "code",
   "execution_count": 2,
   "metadata": {
    "id": "tTjXayCr5DKj"
   },
   "outputs": [],
   "source": [
    "# import libs\n",
    "import numpy as np\n",
    "import pandas as pd\n",
    "import matplotlib.pyplot as plt\n",
    "import os"
   ]
  },
  {
   "cell_type": "code",
   "execution_count": 4,
   "metadata": {
    "colab": {
     "base_uri": "https://localhost:8080/"
    },
    "id": "Vw1-G_Ou5DKk",
    "outputId": "441c01f7-74be-4db7-d1a6-ba5ea96aef15"
   },
   "outputs": [
    {
     "data": {
      "text/plain": [
       "['Participant_8.csv',\n",
       " 'Participant_9.csv',\n",
       " 'Participant_10.csv',\n",
       " 'Participant_7.csv',\n",
       " 'Participant_6.csv',\n",
       " 'Participant_4.csv',\n",
       " 'Participant_5.csv',\n",
       " 'Participant_1.csv',\n",
       " 'Participant_2.csv',\n",
       " 'Participant_3.csv']"
      ]
     },
     "execution_count": 4,
     "metadata": {},
     "output_type": "execute_result"
    }
   ],
   "source": [
    "path='dataset/DataSet/'\n",
    "files=[file for file in os.listdir(path) if file.endswith('.csv')]\n",
    "files"
   ]
  },
  {
   "cell_type": "code",
   "execution_count": 5,
   "metadata": {
    "colab": {
     "base_uri": "https://localhost:8080/",
     "height": 241
    },
    "id": "64gDWXL25DKl",
    "outputId": "99780937-211c-4bb4-86f5-545eee4a8002",
    "scrolled": true
   },
   "outputs": [
    {
     "data": {
      "text/html": [
       "<div>\n",
       "<style scoped>\n",
       "    .dataframe tbody tr th:only-of-type {\n",
       "        vertical-align: middle;\n",
       "    }\n",
       "\n",
       "    .dataframe tbody tr th {\n",
       "        vertical-align: top;\n",
       "    }\n",
       "\n",
       "    .dataframe thead th {\n",
       "        text-align: right;\n",
       "    }\n",
       "</style>\n",
       "<table border=\"1\" class=\"dataframe\">\n",
       "  <thead>\n",
       "    <tr style=\"text-align: right;\">\n",
       "      <th></th>\n",
       "      <th>time_stamp</th>\n",
       "      <th>Ax</th>\n",
       "      <th>Ay</th>\n",
       "      <th>Az</th>\n",
       "      <th>Lx</th>\n",
       "      <th>Ly</th>\n",
       "      <th>Lz</th>\n",
       "      <th>Gx</th>\n",
       "      <th>Gy</th>\n",
       "      <th>Gz</th>\n",
       "      <th>...</th>\n",
       "      <th>Lx.4</th>\n",
       "      <th>Ly.4</th>\n",
       "      <th>Lz.4</th>\n",
       "      <th>Gx.4</th>\n",
       "      <th>Gy.4</th>\n",
       "      <th>Gz.4</th>\n",
       "      <th>Mx.4</th>\n",
       "      <th>My.4</th>\n",
       "      <th>Mz.4</th>\n",
       "      <th>Unnamed: 69</th>\n",
       "    </tr>\n",
       "  </thead>\n",
       "  <tbody>\n",
       "    <tr>\n",
       "      <th>0</th>\n",
       "      <td>1.390000e+12</td>\n",
       "      <td>1.56630</td>\n",
       "      <td>-7.4640</td>\n",
       "      <td>2.50610</td>\n",
       "      <td>-0.72489</td>\n",
       "      <td>2.01760</td>\n",
       "      <td>1.4955</td>\n",
       "      <td>1.56560</td>\n",
       "      <td>-1.53020</td>\n",
       "      <td>-0.090713</td>\n",
       "      <td>...</td>\n",
       "      <td>-3.4679</td>\n",
       "      <td>1.539600</td>\n",
       "      <td>-1.89530</td>\n",
       "      <td>-0.33659</td>\n",
       "      <td>-0.156690</td>\n",
       "      <td>0.54978</td>\n",
       "      <td>24.00</td>\n",
       "      <td>2.82</td>\n",
       "      <td>-9.30</td>\n",
       "      <td>walking</td>\n",
       "    </tr>\n",
       "    <tr>\n",
       "      <th>1</th>\n",
       "      <td>1.390000e+12</td>\n",
       "      <td>2.23370</td>\n",
       "      <td>-8.0769</td>\n",
       "      <td>3.41870</td>\n",
       "      <td>-0.07754</td>\n",
       "      <td>1.36890</td>\n",
       "      <td>2.1517</td>\n",
       "      <td>1.13380</td>\n",
       "      <td>-0.37080</td>\n",
       "      <td>-0.376900</td>\n",
       "      <td>...</td>\n",
       "      <td>-1.6108</td>\n",
       "      <td>-0.030106</td>\n",
       "      <td>-1.74350</td>\n",
       "      <td>-0.35064</td>\n",
       "      <td>-0.753500</td>\n",
       "      <td>0.67317</td>\n",
       "      <td>24.00</td>\n",
       "      <td>3.06</td>\n",
       "      <td>-8.82</td>\n",
       "      <td>walking</td>\n",
       "    </tr>\n",
       "    <tr>\n",
       "      <th>2</th>\n",
       "      <td>1.390000e+12</td>\n",
       "      <td>0.19068</td>\n",
       "      <td>-10.3510</td>\n",
       "      <td>0.10896</td>\n",
       "      <td>-1.75790</td>\n",
       "      <td>-0.81255</td>\n",
       "      <td>-1.0668</td>\n",
       "      <td>1.18360</td>\n",
       "      <td>-0.66279</td>\n",
       "      <td>-0.554670</td>\n",
       "      <td>...</td>\n",
       "      <td>-1.9025</td>\n",
       "      <td>-0.636090</td>\n",
       "      <td>-0.79292</td>\n",
       "      <td>-0.55528</td>\n",
       "      <td>-0.365600</td>\n",
       "      <td>0.83169</td>\n",
       "      <td>24.12</td>\n",
       "      <td>3.06</td>\n",
       "      <td>-8.70</td>\n",
       "      <td>walking</td>\n",
       "    </tr>\n",
       "    <tr>\n",
       "      <th>3</th>\n",
       "      <td>1.390000e+12</td>\n",
       "      <td>-0.68102</td>\n",
       "      <td>-10.2290</td>\n",
       "      <td>-1.32120</td>\n",
       "      <td>-2.36530</td>\n",
       "      <td>-0.61226</td>\n",
       "      <td>-2.2454</td>\n",
       "      <td>1.20000</td>\n",
       "      <td>-1.45690</td>\n",
       "      <td>-0.396450</td>\n",
       "      <td>...</td>\n",
       "      <td>-2.5825</td>\n",
       "      <td>-0.733360</td>\n",
       "      <td>-1.61230</td>\n",
       "      <td>-0.82711</td>\n",
       "      <td>-0.079107</td>\n",
       "      <td>0.85399</td>\n",
       "      <td>24.30</td>\n",
       "      <td>3.00</td>\n",
       "      <td>-8.58</td>\n",
       "      <td>walking</td>\n",
       "    </tr>\n",
       "    <tr>\n",
       "      <th>4</th>\n",
       "      <td>1.390000e+12</td>\n",
       "      <td>-0.14982</td>\n",
       "      <td>-9.8884</td>\n",
       "      <td>-1.60720</td>\n",
       "      <td>-1.65250</td>\n",
       "      <td>-0.22073</td>\n",
       "      <td>-2.2773</td>\n",
       "      <td>0.93432</td>\n",
       "      <td>-0.97708</td>\n",
       "      <td>-0.450510</td>\n",
       "      <td>...</td>\n",
       "      <td>-4.9397</td>\n",
       "      <td>-2.614700</td>\n",
       "      <td>-0.98619</td>\n",
       "      <td>-1.66770</td>\n",
       "      <td>-0.839630</td>\n",
       "      <td>0.62217</td>\n",
       "      <td>24.60</td>\n",
       "      <td>3.12</td>\n",
       "      <td>-8.40</td>\n",
       "      <td>walking</td>\n",
       "    </tr>\n",
       "  </tbody>\n",
       "</table>\n",
       "<p>5 rows × 70 columns</p>\n",
       "</div>"
      ],
      "text/plain": [
       "     time_stamp       Ax       Ay       Az       Lx       Ly      Lz       Gx  \\\n",
       "0  1.390000e+12  1.56630  -7.4640  2.50610 -0.72489  2.01760  1.4955  1.56560   \n",
       "1  1.390000e+12  2.23370  -8.0769  3.41870 -0.07754  1.36890  2.1517  1.13380   \n",
       "2  1.390000e+12  0.19068 -10.3510  0.10896 -1.75790 -0.81255 -1.0668  1.18360   \n",
       "3  1.390000e+12 -0.68102 -10.2290 -1.32120 -2.36530 -0.61226 -2.2454  1.20000   \n",
       "4  1.390000e+12 -0.14982  -9.8884 -1.60720 -1.65250 -0.22073 -2.2773  0.93432   \n",
       "\n",
       "        Gy        Gz  ...    Lx.4      Ly.4     Lz.4     Gx.4      Gy.4  \\\n",
       "0 -1.53020 -0.090713  ... -3.4679  1.539600 -1.89530 -0.33659 -0.156690   \n",
       "1 -0.37080 -0.376900  ... -1.6108 -0.030106 -1.74350 -0.35064 -0.753500   \n",
       "2 -0.66279 -0.554670  ... -1.9025 -0.636090 -0.79292 -0.55528 -0.365600   \n",
       "3 -1.45690 -0.396450  ... -2.5825 -0.733360 -1.61230 -0.82711 -0.079107   \n",
       "4 -0.97708 -0.450510  ... -4.9397 -2.614700 -0.98619 -1.66770 -0.839630   \n",
       "\n",
       "      Gz.4   Mx.4  My.4  Mz.4  Unnamed: 69  \n",
       "0  0.54978  24.00  2.82 -9.30      walking  \n",
       "1  0.67317  24.00  3.06 -8.82      walking  \n",
       "2  0.83169  24.12  3.06 -8.70      walking  \n",
       "3  0.85399  24.30  3.00 -8.58      walking  \n",
       "4  0.62217  24.60  3.12 -8.40      walking  \n",
       "\n",
       "[5 rows x 70 columns]"
      ]
     },
     "execution_count": 5,
     "metadata": {},
     "output_type": "execute_result"
    }
   ],
   "source": [
    "# load a file into memory\n",
    "df=pd.read_csv(path+files[0],header=1)\n",
    "df.head()"
   ]
  },
  {
   "cell_type": "code",
   "execution_count": 6,
   "metadata": {
    "colab": {
     "base_uri": "https://localhost:8080/"
    },
    "id": "QJiLb3oK5DKl",
    "outputId": "82e7ae91-1753-4ce6-9853-0deb9a125e36"
   },
   "outputs": [
    {
     "data": {
      "text/plain": [
       "array(['walking', 'standing', 'jogging', 'sitting', 'biking', 'upsatirs',\n",
       "       'downstairs'], dtype=object)"
      ]
     },
     "execution_count": 6,
     "metadata": {},
     "output_type": "execute_result"
    }
   ],
   "source": [
    "df['Unnamed: 69'].unique()"
   ]
  },
  {
   "cell_type": "markdown",
   "metadata": {
    "id": "tOLwiHwf5DKm"
   },
   "source": [
    "## Visualize the difference in change in values w.r.t activity"
   ]
  },
  {
   "cell_type": "code",
   "execution_count": 7,
   "metadata": {
    "colab": {
     "base_uri": "https://localhost:8080/",
     "height": 282
    },
    "id": "i047xCCV5DKm",
    "outputId": "81b52e15-b008-4511-e9c5-19b3b4a3fc0c"
   },
   "outputs": [
    {
     "data": {
      "text/plain": [
       "<matplotlib.legend.Legend at 0x104066440>"
      ]
     },
     "execution_count": 7,
     "metadata": {},
     "output_type": "execute_result"
    },
    {
     "data": {
      "image/png": "[encoded data removed]",
      "text/plain": [
       "<Figure size 640x480 with 1 Axes>"
      ]
     },
     "metadata": {},
     "output_type": "display_data"
    }
   ],
   "source": [
    "# change in values while walking\n",
    "\n",
    "plt.plot(np.arange(0,100),df.Ax[df['Unnamed: 69']==\"walking\"][:100], label='X-axis')\n",
    "plt.plot(np.arange(0,100),df.Ay[df['Unnamed: 69']==\"walking\"][:100], label='Y-axis')\n",
    "plt.plot(np.arange(0,100),df.Az[df['Unnamed: 69']==\"walking\"][:100], label='Z-axis')\n",
    "plt.legend()"
   ]
  },
  {
   "cell_type": "code",
   "execution_count": 8,
   "metadata": {
    "colab": {
     "base_uri": "https://localhost:8080/",
     "height": 282
    },
    "id": "iczJ5sLE5DKn",
    "outputId": "44485973-d1b1-4aaa-eb84-081714a6ee55"
   },
   "outputs": [
    {
     "name": "stderr",
     "output_type": "stream",
     "text": [
      "/var/folders/hc/4_spfx051b5d36rrtssgcwl80000gn/T/ipykernel_79744/2446371698.py:3: FutureWarning: The behavior of `series[i:j]` with an integer-dtype index is deprecated. In a future version, this will be treated as *label-based* indexing, consistent with e.g. `series[i]` lookups. To retain the old behavior, use `series.iloc[i:j]`. To get the future behavior, use `series.loc[i:j]`.\n",
      "  plt.plot(np.arange(0,100),df.Ax[df['Unnamed: 69']==\"standing\"][:100], label='X-axis')\n",
      "/var/folders/hc/4_spfx051b5d36rrtssgcwl80000gn/T/ipykernel_79744/2446371698.py:4: FutureWarning: The behavior of `series[i:j]` with an integer-dtype index is deprecated. In a future version, this will be treated as *label-based* indexing, consistent with e.g. `series[i]` lookups. To retain the old behavior, use `series.iloc[i:j]`. To get the future behavior, use `series.loc[i:j]`.\n",
      "  plt.plot(np.arange(0,100),df.Ay[df['Unnamed: 69']==\"standing\"][:100], label='Y-axis')\n",
      "/var/folders/hc/4_spfx051b5d36rrtssgcwl80000gn/T/ipykernel_79744/2446371698.py:5: FutureWarning: The behavior of `series[i:j]` with an integer-dtype index is deprecated. In a future version, this will be treated as *label-based* indexing, consistent with e.g. `series[i]` lookups. To retain the old behavior, use `series.iloc[i:j]`. To get the future behavior, use `series.loc[i:j]`.\n",
      "  plt.plot(np.arange(0,100),df.Az[df['Unnamed: 69']==\"standing\"][:100], label='Z-axis')\n"
     ]
    },
    {
     "data": {
      "text/plain": [
       "<matplotlib.legend.Legend at 0x176e30a00>"
      ]
     },
     "execution_count": 8,
     "metadata": {},
     "output_type": "execute_result"
    },
    {
     "data": {
      "image/png": "[encoded data removed]",
      "text/plain": [
       "<Figure size 640x480 with 1 Axes>"
      ]
     },
     "metadata": {},
     "output_type": "display_data"
    }
   ],
   "source": [
    "# change in values while standing\n",
    "\n",
    "plt.plot(np.arange(0,100),df.Ax[df['Unnamed: 69']==\"standing\"][:100], label='X-axis')\n",
    "plt.plot(np.arange(0,100),df.Ay[df['Unnamed: 69']==\"standing\"][:100], label='Y-axis')\n",
    "plt.plot(np.arange(0,100),df.Az[df['Unnamed: 69']==\"standing\"][:100], label='Z-axis')\n",
    "plt.legend()"
   ]
  },
  {
   "cell_type": "code",
   "execution_count": 9,
   "metadata": {
    "colab": {
     "base_uri": "https://localhost:8080/",
     "height": 282
    },
    "id": "yc0ytU4v5DKn",
    "outputId": "7a2fd1a1-e299-46ef-fe79-9f516648b69c"
   },
   "outputs": [
    {
     "name": "stderr",
     "output_type": "stream",
     "text": [
      "/var/folders/hc/4_spfx051b5d36rrtssgcwl80000gn/T/ipykernel_79744/2867413791.py:3: FutureWarning: The behavior of `series[i:j]` with an integer-dtype index is deprecated. In a future version, this will be treated as *label-based* indexing, consistent with e.g. `series[i]` lookups. To retain the old behavior, use `series.iloc[i:j]`. To get the future behavior, use `series.loc[i:j]`.\n",
      "  plt.plot(np.arange(0,100),df.Ax[df['Unnamed: 69']==\"biking\"][:100], label='X-axis')\n",
      "/var/folders/hc/4_spfx051b5d36rrtssgcwl80000gn/T/ipykernel_79744/2867413791.py:4: FutureWarning: The behavior of `series[i:j]` with an integer-dtype index is deprecated. In a future version, this will be treated as *label-based* indexing, consistent with e.g. `series[i]` lookups. To retain the old behavior, use `series.iloc[i:j]`. To get the future behavior, use `series.loc[i:j]`.\n",
      "  plt.plot(np.arange(0,100),df.Ay[df['Unnamed: 69']==\"biking\"][:100], label='Y-axis')\n",
      "/var/folders/hc/4_spfx051b5d36rrtssgcwl80000gn/T/ipykernel_79744/2867413791.py:5: FutureWarning: The behavior of `series[i:j]` with an integer-dtype index is deprecated. In a future version, this will be treated as *label-based* indexing, consistent with e.g. `series[i]` lookups. To retain the old behavior, use `series.iloc[i:j]`. To get the future behavior, use `series.loc[i:j]`.\n",
      "  plt.plot(np.arange(0,100),df.Az[df['Unnamed: 69']==\"biking\"][:100], label='Z-axis')\n"
     ]
    },
    {
     "data": {
      "text/plain": [
       "<matplotlib.legend.Legend at 0x1778748e0>"
      ]
     },
     "execution_count": 9,
     "metadata": {},
     "output_type": "execute_result"
    },
    {
     "data": {
      "image/png": "[encoded data removed]",
      "text/plain": [
       "<Figure size 640x480 with 1 Axes>"
      ]
     },
     "metadata": {},
     "output_type": "display_data"
    }
   ],
   "source": [
    "# change in values while biking\n",
    "\n",
    "plt.plot(np.arange(0,100),df.Ax[df['Unnamed: 69']==\"biking\"][:100], label='X-axis')\n",
    "plt.plot(np.arange(0,100),df.Ay[df['Unnamed: 69']==\"biking\"][:100], label='Y-axis')\n",
    "plt.plot(np.arange(0,100),df.Az[df['Unnamed: 69']==\"biking\"][:100], label='Z-axis')\n",
    "plt.legend()"
   ]
  },
  {
   "cell_type": "code",
   "execution_count": 10,
   "metadata": {
    "colab": {
     "base_uri": "https://localhost:8080/",
     "height": 282
    },
    "id": "GdppuvM35DKo",
    "outputId": "d09e2a00-3f83-4509-e0b2-f02a52d85a16"
   },
   "outputs": [
    {
     "name": "stderr",
     "output_type": "stream",
     "text": [
      "/var/folders/hc/4_spfx051b5d36rrtssgcwl80000gn/T/ipykernel_79744/3628611996.py:3: FutureWarning: The behavior of `series[i:j]` with an integer-dtype index is deprecated. In a future version, this will be treated as *label-based* indexing, consistent with e.g. `series[i]` lookups. To retain the old behavior, use `series.iloc[i:j]`. To get the future behavior, use `series.loc[i:j]`.\n",
      "  plt.plot(np.arange(0,100),df.Ax[df['Unnamed: 69']==\"jogging\"][:100], label='X-axis')\n",
      "/var/folders/hc/4_spfx051b5d36rrtssgcwl80000gn/T/ipykernel_79744/3628611996.py:4: FutureWarning: The behavior of `series[i:j]` with an integer-dtype index is deprecated. In a future version, this will be treated as *label-based* indexing, consistent with e.g. `series[i]` lookups. To retain the old behavior, use `series.iloc[i:j]`. To get the future behavior, use `series.loc[i:j]`.\n",
      "  plt.plot(np.arange(0,100),df.Ay[df['Unnamed: 69']==\"jogging\"][:100], label='Y-axis')\n",
      "/var/folders/hc/4_spfx051b5d36rrtssgcwl80000gn/T/ipykernel_79744/3628611996.py:5: FutureWarning: The behavior of `series[i:j]` with an integer-dtype index is deprecated. In a future version, this will be treated as *label-based* indexing, consistent with e.g. `series[i]` lookups. To retain the old behavior, use `series.iloc[i:j]`. To get the future behavior, use `series.loc[i:j]`.\n",
      "  plt.plot(np.arange(0,100),df.Az[df['Unnamed: 69']==\"jogging\"][:100], label='Z-axis')\n"
     ]
    },
    {
     "data": {
      "text/plain": [
       "<matplotlib.legend.Legend at 0x28a2f7cd0>"
      ]
     },
     "execution_count": 10,
     "metadata": {},
     "output_type": "execute_result"
    },
    {
     "data": {
      "image/png": "[encoded data removed]",
      "text/plain": [
       "<Figure size 640x480 with 1 Axes>"
      ]
     },
     "metadata": {},
     "output_type": "display_data"
    }
   ],
   "source": [
    "# change in values while jogging\n",
    "\n",
    "plt.plot(np.arange(0,100),df.Ax[df['Unnamed: 69']==\"jogging\"][:100], label='X-axis')\n",
    "plt.plot(np.arange(0,100),df.Ay[df['Unnamed: 69']==\"jogging\"][:100], label='Y-axis')\n",
    "plt.plot(np.arange(0,100),df.Az[df['Unnamed: 69']==\"jogging\"][:100], label='Z-axis')\n",
    "plt.legend()"
   ]
  },
  {
   "cell_type": "markdown",
   "metadata": {
    "id": "CEF_btl05DKo"
   },
   "source": [
    "## Load and concatenate all files into one dataframe"
   ]
  },
  {
   "cell_type": "code",
   "execution_count": 11,
   "metadata": {
    "colab": {
     "base_uri": "https://localhost:8080/",
     "height": 456
    },
    "id": "M2lHIbnx5DKp",
    "outputId": "98f11845-5d91-4ed1-bd16-09700b7f18a6"
   },
   "outputs": [
    {
     "data": {
      "text/html": [
       "<div>\n",
       "<style scoped>\n",
       "    .dataframe tbody tr th:only-of-type {\n",
       "        vertical-align: middle;\n",
       "    }\n",
       "\n",
       "    .dataframe tbody tr th {\n",
       "        vertical-align: top;\n",
       "    }\n",
       "\n",
       "    .dataframe thead th {\n",
       "        text-align: right;\n",
       "    }\n",
       "</style>\n",
       "<table border=\"1\" class=\"dataframe\">\n",
       "  <thead>\n",
       "    <tr style=\"text-align: right;\">\n",
       "      <th></th>\n",
       "      <th>time_stamp</th>\n",
       "      <th>Ax</th>\n",
       "      <th>Ay</th>\n",
       "      <th>Az</th>\n",
       "      <th>Lx</th>\n",
       "      <th>Ly</th>\n",
       "      <th>Lz</th>\n",
       "      <th>Gx</th>\n",
       "      <th>Gy</th>\n",
       "      <th>Gz</th>\n",
       "      <th>...</th>\n",
       "      <th>Lx.4</th>\n",
       "      <th>Ly.4</th>\n",
       "      <th>Lz.4</th>\n",
       "      <th>Gx.4</th>\n",
       "      <th>Gy.4</th>\n",
       "      <th>Gz.4</th>\n",
       "      <th>Mx.4</th>\n",
       "      <th>My.4</th>\n",
       "      <th>Mz.4</th>\n",
       "      <th>Unnamed: 69</th>\n",
       "    </tr>\n",
       "  </thead>\n",
       "  <tbody>\n",
       "    <tr>\n",
       "      <th>0</th>\n",
       "      <td>1.390000e+12</td>\n",
       "      <td>1.566300</td>\n",
       "      <td>-7.4640</td>\n",
       "      <td>2.50610</td>\n",
       "      <td>-0.724890</td>\n",
       "      <td>2.01760</td>\n",
       "      <td>1.4955</td>\n",
       "      <td>1.56560</td>\n",
       "      <td>-1.53020</td>\n",
       "      <td>-0.090713</td>\n",
       "      <td>...</td>\n",
       "      <td>-3.46790</td>\n",
       "      <td>1.539600</td>\n",
       "      <td>-1.89530</td>\n",
       "      <td>-0.33659</td>\n",
       "      <td>-0.156690</td>\n",
       "      <td>0.549780</td>\n",
       "      <td>24.00</td>\n",
       "      <td>2.82</td>\n",
       "      <td>-9.30</td>\n",
       "      <td>walking</td>\n",
       "    </tr>\n",
       "    <tr>\n",
       "      <th>1</th>\n",
       "      <td>1.390000e+12</td>\n",
       "      <td>2.233700</td>\n",
       "      <td>-8.0769</td>\n",
       "      <td>3.41870</td>\n",
       "      <td>-0.077540</td>\n",
       "      <td>1.36890</td>\n",
       "      <td>2.1517</td>\n",
       "      <td>1.13380</td>\n",
       "      <td>-0.37080</td>\n",
       "      <td>-0.376900</td>\n",
       "      <td>...</td>\n",
       "      <td>-1.61080</td>\n",
       "      <td>-0.030106</td>\n",
       "      <td>-1.74350</td>\n",
       "      <td>-0.35064</td>\n",
       "      <td>-0.753500</td>\n",
       "      <td>0.673170</td>\n",
       "      <td>24.00</td>\n",
       "      <td>3.06</td>\n",
       "      <td>-8.82</td>\n",
       "      <td>walking</td>\n",
       "    </tr>\n",
       "    <tr>\n",
       "      <th>2</th>\n",
       "      <td>1.390000e+12</td>\n",
       "      <td>0.190680</td>\n",
       "      <td>-10.3510</td>\n",
       "      <td>0.10896</td>\n",
       "      <td>-1.757900</td>\n",
       "      <td>-0.81255</td>\n",
       "      <td>-1.0668</td>\n",
       "      <td>1.18360</td>\n",
       "      <td>-0.66279</td>\n",
       "      <td>-0.554670</td>\n",
       "      <td>...</td>\n",
       "      <td>-1.90250</td>\n",
       "      <td>-0.636090</td>\n",
       "      <td>-0.79292</td>\n",
       "      <td>-0.55528</td>\n",
       "      <td>-0.365600</td>\n",
       "      <td>0.831690</td>\n",
       "      <td>24.12</td>\n",
       "      <td>3.06</td>\n",
       "      <td>-8.70</td>\n",
       "      <td>walking</td>\n",
       "    </tr>\n",
       "    <tr>\n",
       "      <th>3</th>\n",
       "      <td>1.390000e+12</td>\n",
       "      <td>-0.681020</td>\n",
       "      <td>-10.2290</td>\n",
       "      <td>-1.32120</td>\n",
       "      <td>-2.365300</td>\n",
       "      <td>-0.61226</td>\n",
       "      <td>-2.2454</td>\n",
       "      <td>1.20000</td>\n",
       "      <td>-1.45690</td>\n",
       "      <td>-0.396450</td>\n",
       "      <td>...</td>\n",
       "      <td>-2.58250</td>\n",
       "      <td>-0.733360</td>\n",
       "      <td>-1.61230</td>\n",
       "      <td>-0.82711</td>\n",
       "      <td>-0.079107</td>\n",
       "      <td>0.853990</td>\n",
       "      <td>24.30</td>\n",
       "      <td>3.00</td>\n",
       "      <td>-8.58</td>\n",
       "      <td>walking</td>\n",
       "    </tr>\n",
       "    <tr>\n",
       "      <th>4</th>\n",
       "      <td>1.390000e+12</td>\n",
       "      <td>-0.149820</td>\n",
       "      <td>-9.8884</td>\n",
       "      <td>-1.60720</td>\n",
       "      <td>-1.652500</td>\n",
       "      <td>-0.22073</td>\n",
       "      <td>-2.2773</td>\n",
       "      <td>0.93432</td>\n",
       "      <td>-0.97708</td>\n",
       "      <td>-0.450510</td>\n",
       "      <td>...</td>\n",
       "      <td>-4.93970</td>\n",
       "      <td>-2.614700</td>\n",
       "      <td>-0.98619</td>\n",
       "      <td>-1.66770</td>\n",
       "      <td>-0.839630</td>\n",
       "      <td>0.622170</td>\n",
       "      <td>24.60</td>\n",
       "      <td>3.12</td>\n",
       "      <td>-8.40</td>\n",
       "      <td>walking</td>\n",
       "    </tr>\n",
       "    <tr>\n",
       "      <th>...</th>\n",
       "      <td>...</td>\n",
       "      <td>...</td>\n",
       "      <td>...</td>\n",
       "      <td>...</td>\n",
       "      <td>...</td>\n",
       "      <td>...</td>\n",
       "      <td>...</td>\n",
       "      <td>...</td>\n",
       "      <td>...</td>\n",
       "      <td>...</td>\n",
       "      <td>...</td>\n",
       "      <td>...</td>\n",
       "      <td>...</td>\n",
       "      <td>...</td>\n",
       "      <td>...</td>\n",
       "      <td>...</td>\n",
       "      <td>...</td>\n",
       "      <td>...</td>\n",
       "      <td>...</td>\n",
       "      <td>...</td>\n",
       "      <td>...</td>\n",
       "    </tr>\n",
       "    <tr>\n",
       "      <th>62995</th>\n",
       "      <td>1.390000e+12</td>\n",
       "      <td>4.916900</td>\n",
       "      <td>-13.8380</td>\n",
       "      <td>-1.08960</td>\n",
       "      <td>3.521000</td>\n",
       "      <td>-5.19390</td>\n",
       "      <td>3.3259</td>\n",
       "      <td>-2.06110</td>\n",
       "      <td>0.92821</td>\n",
       "      <td>-0.350940</td>\n",
       "      <td>...</td>\n",
       "      <td>6.02740</td>\n",
       "      <td>-3.229600</td>\n",
       "      <td>0.97053</td>\n",
       "      <td>0.24923</td>\n",
       "      <td>0.394920</td>\n",
       "      <td>0.619420</td>\n",
       "      <td>-40.20</td>\n",
       "      <td>-31.26</td>\n",
       "      <td>-1.38</td>\n",
       "      <td>downstairs</td>\n",
       "    </tr>\n",
       "    <tr>\n",
       "      <th>62996</th>\n",
       "      <td>1.390000e+12</td>\n",
       "      <td>1.702500</td>\n",
       "      <td>-10.6100</td>\n",
       "      <td>-0.28603</td>\n",
       "      <td>0.062183</td>\n",
       "      <td>-2.18940</td>\n",
       "      <td>4.4646</td>\n",
       "      <td>-1.72910</td>\n",
       "      <td>1.46450</td>\n",
       "      <td>-0.048869</td>\n",
       "      <td>...</td>\n",
       "      <td>8.27400</td>\n",
       "      <td>-3.014200</td>\n",
       "      <td>2.44680</td>\n",
       "      <td>-0.19823</td>\n",
       "      <td>-0.669810</td>\n",
       "      <td>0.791070</td>\n",
       "      <td>-39.66</td>\n",
       "      <td>-30.72</td>\n",
       "      <td>-0.96</td>\n",
       "      <td>downstairs</td>\n",
       "    </tr>\n",
       "    <tr>\n",
       "      <th>62997</th>\n",
       "      <td>1.390000e+12</td>\n",
       "      <td>-0.040861</td>\n",
       "      <td>-6.7421</td>\n",
       "      <td>-0.88532</td>\n",
       "      <td>-1.806600</td>\n",
       "      <td>1.57390</td>\n",
       "      <td>4.0031</td>\n",
       "      <td>-1.12220</td>\n",
       "      <td>1.57940</td>\n",
       "      <td>0.313070</td>\n",
       "      <td>...</td>\n",
       "      <td>4.39100</td>\n",
       "      <td>-2.695700</td>\n",
       "      <td>0.98136</td>\n",
       "      <td>-0.74862</td>\n",
       "      <td>-1.754100</td>\n",
       "      <td>0.481060</td>\n",
       "      <td>-39.18</td>\n",
       "      <td>-30.00</td>\n",
       "      <td>-0.48</td>\n",
       "      <td>downstairs</td>\n",
       "    </tr>\n",
       "    <tr>\n",
       "      <th>62998</th>\n",
       "      <td>1.390000e+12</td>\n",
       "      <td>0.177060</td>\n",
       "      <td>-4.5764</td>\n",
       "      <td>-1.02150</td>\n",
       "      <td>-1.678600</td>\n",
       "      <td>3.65720</td>\n",
       "      <td>3.9718</td>\n",
       "      <td>-0.67592</td>\n",
       "      <td>0.95326</td>\n",
       "      <td>0.310320</td>\n",
       "      <td>...</td>\n",
       "      <td>0.36681</td>\n",
       "      <td>-0.724050</td>\n",
       "      <td>-1.05860</td>\n",
       "      <td>-1.25230</td>\n",
       "      <td>-1.614500</td>\n",
       "      <td>0.013744</td>\n",
       "      <td>-38.58</td>\n",
       "      <td>-29.10</td>\n",
       "      <td>0.06</td>\n",
       "      <td>downstairs</td>\n",
       "    </tr>\n",
       "    <tr>\n",
       "      <th>62999</th>\n",
       "      <td>1.390000e+12</td>\n",
       "      <td>1.321200</td>\n",
       "      <td>-4.8352</td>\n",
       "      <td>-1.52550</td>\n",
       "      <td>-0.585470</td>\n",
       "      <td>3.35630</td>\n",
       "      <td>3.5177</td>\n",
       "      <td>-0.30452</td>\n",
       "      <td>0.66768</td>\n",
       "      <td>0.125840</td>\n",
       "      <td>...</td>\n",
       "      <td>-1.02400</td>\n",
       "      <td>0.554450</td>\n",
       "      <td>0.36056</td>\n",
       "      <td>-1.44440</td>\n",
       "      <td>-0.491750</td>\n",
       "      <td>-0.248620</td>\n",
       "      <td>-38.16</td>\n",
       "      <td>-28.68</td>\n",
       "      <td>0.42</td>\n",
       "      <td>downstairs</td>\n",
       "    </tr>\n",
       "  </tbody>\n",
       "</table>\n",
       "<p>630000 rows × 70 columns</p>\n",
       "</div>"
      ],
      "text/plain": [
       "         time_stamp        Ax       Ay       Az        Lx       Ly      Lz  \\\n",
       "0      1.390000e+12  1.566300  -7.4640  2.50610 -0.724890  2.01760  1.4955   \n",
       "1      1.390000e+12  2.233700  -8.0769  3.41870 -0.077540  1.36890  2.1517   \n",
       "2      1.390000e+12  0.190680 -10.3510  0.10896 -1.757900 -0.81255 -1.0668   \n",
       "3      1.390000e+12 -0.681020 -10.2290 -1.32120 -2.365300 -0.61226 -2.2454   \n",
       "4      1.390000e+12 -0.149820  -9.8884 -1.60720 -1.652500 -0.22073 -2.2773   \n",
       "...             ...       ...      ...      ...       ...      ...     ...   \n",
       "62995  1.390000e+12  4.916900 -13.8380 -1.08960  3.521000 -5.19390  3.3259   \n",
       "62996  1.390000e+12  1.702500 -10.6100 -0.28603  0.062183 -2.18940  4.4646   \n",
       "62997  1.390000e+12 -0.040861  -6.7421 -0.88532 -1.806600  1.57390  4.0031   \n",
       "62998  1.390000e+12  0.177060  -4.5764 -1.02150 -1.678600  3.65720  3.9718   \n",
       "62999  1.390000e+12  1.321200  -4.8352 -1.52550 -0.585470  3.35630  3.5177   \n",
       "\n",
       "            Gx       Gy        Gz  ...     Lx.4      Ly.4     Lz.4     Gx.4  \\\n",
       "0      1.56560 -1.53020 -0.090713  ... -3.46790  1.539600 -1.89530 -0.33659   \n",
       "1      1.13380 -0.37080 -0.376900  ... -1.61080 -0.030106 -1.74350 -0.35064   \n",
       "2      1.18360 -0.66279 -0.554670  ... -1.90250 -0.636090 -0.79292 -0.55528   \n",
       "3      1.20000 -1.45690 -0.396450  ... -2.58250 -0.733360 -1.61230 -0.82711   \n",
       "4      0.93432 -0.97708 -0.450510  ... -4.93970 -2.614700 -0.98619 -1.66770   \n",
       "...        ...      ...       ...  ...      ...       ...      ...      ...   \n",
       "62995 -2.06110  0.92821 -0.350940  ...  6.02740 -3.229600  0.97053  0.24923   \n",
       "62996 -1.72910  1.46450 -0.048869  ...  8.27400 -3.014200  2.44680 -0.19823   \n",
       "62997 -1.12220  1.57940  0.313070  ...  4.39100 -2.695700  0.98136 -0.74862   \n",
       "62998 -0.67592  0.95326  0.310320  ...  0.36681 -0.724050 -1.05860 -1.25230   \n",
       "62999 -0.30452  0.66768  0.125840  ... -1.02400  0.554450  0.36056 -1.44440   \n",
       "\n",
       "           Gy.4      Gz.4   Mx.4   My.4  Mz.4  Unnamed: 69  \n",
       "0     -0.156690  0.549780  24.00   2.82 -9.30      walking  \n",
       "1     -0.753500  0.673170  24.00   3.06 -8.82      walking  \n",
       "2     -0.365600  0.831690  24.12   3.06 -8.70      walking  \n",
       "3     -0.079107  0.853990  24.30   3.00 -8.58      walking  \n",
       "4     -0.839630  0.622170  24.60   3.12 -8.40      walking  \n",
       "...         ...       ...    ...    ...   ...          ...  \n",
       "62995  0.394920  0.619420 -40.20 -31.26 -1.38   downstairs  \n",
       "62996 -0.669810  0.791070 -39.66 -30.72 -0.96   downstairs  \n",
       "62997 -1.754100  0.481060 -39.18 -30.00 -0.48   downstairs  \n",
       "62998 -1.614500  0.013744 -38.58 -29.10  0.06   downstairs  \n",
       "62999 -0.491750 -0.248620 -38.16 -28.68  0.42   downstairs  \n",
       "\n",
       "[630000 rows x 70 columns]"
      ]
     },
     "execution_count": 11,
     "metadata": {},
     "output_type": "execute_result"
    }
   ],
   "source": [
    "df=pd.DataFrame()\n",
    "\n",
    "for file in files:\n",
    "    df_temp=pd.read_csv(path+file,header=1)\n",
    "    df=pd.concat([df,df_temp], sort=False)\n",
    "df"
   ]
  },
  {
   "cell_type": "code",
   "execution_count": 12,
   "metadata": {
    "colab": {
     "base_uri": "https://localhost:8080/"
    },
    "id": "szUYAOd05DKp",
    "outputId": "9b8a285d-cca4-4e1e-88b0-33a3874b1e9a"
   },
   "outputs": [
    {
     "name": "stdout",
     "output_type": "stream",
     "text": [
      "time_stamp\n",
      "Ax\n",
      "Ay\n",
      "Az\n",
      "Lx\n",
      "Ly\n",
      "Lz\n",
      "Gx\n",
      "Gy\n",
      "Gz\n",
      "Mx\n",
      "My\n",
      "Mz\n",
      "Unnamed: 13\n",
      "time_stamp.1\n",
      "Ax.1\n",
      "Ay.1\n",
      "Az.1\n",
      "Lx.1\n",
      "Ly.1\n",
      "Lz.1\n",
      "Gx.1\n",
      "Gy.1\n",
      "Gz.1\n",
      "Mx.1\n",
      "My.1\n",
      "Mz.1\n",
      "Unnamed: 27\n",
      "time_stamp.2\n",
      "Ax.2\n",
      "Ay.2\n",
      "Az.2\n",
      "Lx.2\n",
      "Ly.2\n",
      "Lz.2\n",
      "Gx.2\n",
      "Gy.2\n",
      "Gz.2\n",
      "Mx.2\n",
      "My.2\n",
      "Mz.2\n",
      "Unnamed: 41\n",
      "time_stamp.3\n",
      "Ax.3\n",
      "Ay.3\n",
      "Az.3\n",
      "Lx.3\n",
      "Ly.3\n",
      "Lz.3\n",
      "Gx.3\n",
      "Gy.3\n",
      "Gz.3\n",
      "Mx.3\n",
      "My.3\n",
      "Mz.3\n",
      "Unnamed: 55\n",
      "time_stamp.4\n",
      "Ax.4\n",
      "Ay.4\n",
      "Az.4\n",
      "Lx.4\n",
      "Ly.4\n",
      "Lz.4\n",
      "Gx.4\n",
      "Gy.4\n",
      "Gz.4\n",
      "Mx.4\n",
      "My.4\n",
      "Mz.4\n",
      "Unnamed: 69\n"
     ]
    }
   ],
   "source": [
    "for i in df.columns:\n",
    "    print(i)"
   ]
  },
  {
   "cell_type": "code",
   "execution_count": 13,
   "metadata": {
    "colab": {
     "base_uri": "https://localhost:8080/",
     "height": 419
    },
    "id": "EYTefRLS5DKq",
    "outputId": "4bcb7464-f65f-4300-d6de-07ed56411244"
   },
   "outputs": [
    {
     "data": {
      "text/html": [
       "<div>\n",
       "<style scoped>\n",
       "    .dataframe tbody tr th:only-of-type {\n",
       "        vertical-align: middle;\n",
       "    }\n",
       "\n",
       "    .dataframe tbody tr th {\n",
       "        vertical-align: top;\n",
       "    }\n",
       "\n",
       "    .dataframe thead th {\n",
       "        text-align: right;\n",
       "    }\n",
       "</style>\n",
       "<table border=\"1\" class=\"dataframe\">\n",
       "  <thead>\n",
       "    <tr style=\"text-align: right;\">\n",
       "      <th></th>\n",
       "      <th>Ax</th>\n",
       "      <th>Ay</th>\n",
       "      <th>Az</th>\n",
       "      <th>Lx</th>\n",
       "      <th>Ly</th>\n",
       "      <th>Lz</th>\n",
       "      <th>Gx</th>\n",
       "      <th>Gy</th>\n",
       "      <th>Gz</th>\n",
       "    </tr>\n",
       "  </thead>\n",
       "  <tbody>\n",
       "    <tr>\n",
       "      <th>0</th>\n",
       "      <td>1.566300</td>\n",
       "      <td>-7.4640</td>\n",
       "      <td>2.50610</td>\n",
       "      <td>-0.724890</td>\n",
       "      <td>2.01760</td>\n",
       "      <td>1.4955</td>\n",
       "      <td>1.56560</td>\n",
       "      <td>-1.53020</td>\n",
       "      <td>-0.090713</td>\n",
       "    </tr>\n",
       "    <tr>\n",
       "      <th>1</th>\n",
       "      <td>2.233700</td>\n",
       "      <td>-8.0769</td>\n",
       "      <td>3.41870</td>\n",
       "      <td>-0.077540</td>\n",
       "      <td>1.36890</td>\n",
       "      <td>2.1517</td>\n",
       "      <td>1.13380</td>\n",
       "      <td>-0.37080</td>\n",
       "      <td>-0.376900</td>\n",
       "    </tr>\n",
       "    <tr>\n",
       "      <th>2</th>\n",
       "      <td>0.190680</td>\n",
       "      <td>-10.3510</td>\n",
       "      <td>0.10896</td>\n",
       "      <td>-1.757900</td>\n",
       "      <td>-0.81255</td>\n",
       "      <td>-1.0668</td>\n",
       "      <td>1.18360</td>\n",
       "      <td>-0.66279</td>\n",
       "      <td>-0.554670</td>\n",
       "    </tr>\n",
       "    <tr>\n",
       "      <th>3</th>\n",
       "      <td>-0.681020</td>\n",
       "      <td>-10.2290</td>\n",
       "      <td>-1.32120</td>\n",
       "      <td>-2.365300</td>\n",
       "      <td>-0.61226</td>\n",
       "      <td>-2.2454</td>\n",
       "      <td>1.20000</td>\n",
       "      <td>-1.45690</td>\n",
       "      <td>-0.396450</td>\n",
       "    </tr>\n",
       "    <tr>\n",
       "      <th>4</th>\n",
       "      <td>-0.149820</td>\n",
       "      <td>-9.8884</td>\n",
       "      <td>-1.60720</td>\n",
       "      <td>-1.652500</td>\n",
       "      <td>-0.22073</td>\n",
       "      <td>-2.2773</td>\n",
       "      <td>0.93432</td>\n",
       "      <td>-0.97708</td>\n",
       "      <td>-0.450510</td>\n",
       "    </tr>\n",
       "    <tr>\n",
       "      <th>...</th>\n",
       "      <td>...</td>\n",
       "      <td>...</td>\n",
       "      <td>...</td>\n",
       "      <td>...</td>\n",
       "      <td>...</td>\n",
       "      <td>...</td>\n",
       "      <td>...</td>\n",
       "      <td>...</td>\n",
       "      <td>...</td>\n",
       "    </tr>\n",
       "    <tr>\n",
       "      <th>62995</th>\n",
       "      <td>4.916900</td>\n",
       "      <td>-13.8380</td>\n",
       "      <td>-1.08960</td>\n",
       "      <td>3.521000</td>\n",
       "      <td>-5.19390</td>\n",
       "      <td>3.3259</td>\n",
       "      <td>-2.06110</td>\n",
       "      <td>0.92821</td>\n",
       "      <td>-0.350940</td>\n",
       "    </tr>\n",
       "    <tr>\n",
       "      <th>62996</th>\n",
       "      <td>1.702500</td>\n",
       "      <td>-10.6100</td>\n",
       "      <td>-0.28603</td>\n",
       "      <td>0.062183</td>\n",
       "      <td>-2.18940</td>\n",
       "      <td>4.4646</td>\n",
       "      <td>-1.72910</td>\n",
       "      <td>1.46450</td>\n",
       "      <td>-0.048869</td>\n",
       "    </tr>\n",
       "    <tr>\n",
       "      <th>62997</th>\n",
       "      <td>-0.040861</td>\n",
       "      <td>-6.7421</td>\n",
       "      <td>-0.88532</td>\n",
       "      <td>-1.806600</td>\n",
       "      <td>1.57390</td>\n",
       "      <td>4.0031</td>\n",
       "      <td>-1.12220</td>\n",
       "      <td>1.57940</td>\n",
       "      <td>0.313070</td>\n",
       "    </tr>\n",
       "    <tr>\n",
       "      <th>62998</th>\n",
       "      <td>0.177060</td>\n",
       "      <td>-4.5764</td>\n",
       "      <td>-1.02150</td>\n",
       "      <td>-1.678600</td>\n",
       "      <td>3.65720</td>\n",
       "      <td>3.9718</td>\n",
       "      <td>-0.67592</td>\n",
       "      <td>0.95326</td>\n",
       "      <td>0.310320</td>\n",
       "    </tr>\n",
       "    <tr>\n",
       "      <th>62999</th>\n",
       "      <td>1.321200</td>\n",
       "      <td>-4.8352</td>\n",
       "      <td>-1.52550</td>\n",
       "      <td>-0.585470</td>\n",
       "      <td>3.35630</td>\n",
       "      <td>3.5177</td>\n",
       "      <td>-0.30452</td>\n",
       "      <td>0.66768</td>\n",
       "      <td>0.125840</td>\n",
       "    </tr>\n",
       "  </tbody>\n",
       "</table>\n",
       "<p>630000 rows × 9 columns</p>\n",
       "</div>"
      ],
      "text/plain": [
       "             Ax       Ay       Az        Lx       Ly      Lz       Gx  \\\n",
       "0      1.566300  -7.4640  2.50610 -0.724890  2.01760  1.4955  1.56560   \n",
       "1      2.233700  -8.0769  3.41870 -0.077540  1.36890  2.1517  1.13380   \n",
       "2      0.190680 -10.3510  0.10896 -1.757900 -0.81255 -1.0668  1.18360   \n",
       "3     -0.681020 -10.2290 -1.32120 -2.365300 -0.61226 -2.2454  1.20000   \n",
       "4     -0.149820  -9.8884 -1.60720 -1.652500 -0.22073 -2.2773  0.93432   \n",
       "...         ...      ...      ...       ...      ...     ...      ...   \n",
       "62995  4.916900 -13.8380 -1.08960  3.521000 -5.19390  3.3259 -2.06110   \n",
       "62996  1.702500 -10.6100 -0.28603  0.062183 -2.18940  4.4646 -1.72910   \n",
       "62997 -0.040861  -6.7421 -0.88532 -1.806600  1.57390  4.0031 -1.12220   \n",
       "62998  0.177060  -4.5764 -1.02150 -1.678600  3.65720  3.9718 -0.67592   \n",
       "62999  1.321200  -4.8352 -1.52550 -0.585470  3.35630  3.5177 -0.30452   \n",
       "\n",
       "            Gy        Gz  \n",
       "0     -1.53020 -0.090713  \n",
       "1     -0.37080 -0.376900  \n",
       "2     -0.66279 -0.554670  \n",
       "3     -1.45690 -0.396450  \n",
       "4     -0.97708 -0.450510  \n",
       "...        ...       ...  \n",
       "62995  0.92821 -0.350940  \n",
       "62996  1.46450 -0.048869  \n",
       "62997  1.57940  0.313070  \n",
       "62998  0.95326  0.310320  \n",
       "62999  0.66768  0.125840  \n",
       "\n",
       "[630000 rows x 9 columns]"
      ]
     },
     "execution_count": 13,
     "metadata": {},
     "output_type": "execute_result"
    }
   ],
   "source": [
    "# split out left and right pocket data\n",
    "\n",
    "left_pocket = df[df.columns[1:10]]\n",
    "left_pocket"
   ]
  },
  {
   "cell_type": "code",
   "execution_count": 14,
   "metadata": {
    "colab": {
     "base_uri": "https://localhost:8080/",
     "height": 419
    },
    "id": "lMYEof545DKq",
    "outputId": "ccfad3df-b17b-4811-d4c1-ec022494dc0d"
   },
   "outputs": [
    {
     "data": {
      "text/html": [
       "<div>\n",
       "<style scoped>\n",
       "    .dataframe tbody tr th:only-of-type {\n",
       "        vertical-align: middle;\n",
       "    }\n",
       "\n",
       "    .dataframe tbody tr th {\n",
       "        vertical-align: top;\n",
       "    }\n",
       "\n",
       "    .dataframe thead th {\n",
       "        text-align: right;\n",
       "    }\n",
       "</style>\n",
       "<table border=\"1\" class=\"dataframe\">\n",
       "  <thead>\n",
       "    <tr style=\"text-align: right;\">\n",
       "      <th></th>\n",
       "      <th>Ax</th>\n",
       "      <th>Ay</th>\n",
       "      <th>Az</th>\n",
       "      <th>Lx</th>\n",
       "      <th>Ly</th>\n",
       "      <th>Lz</th>\n",
       "      <th>Gx</th>\n",
       "      <th>Gy</th>\n",
       "      <th>Gz</th>\n",
       "    </tr>\n",
       "  </thead>\n",
       "  <tbody>\n",
       "    <tr>\n",
       "      <th>0</th>\n",
       "      <td>-4.317700</td>\n",
       "      <td>-13.5110</td>\n",
       "      <td>2.17930</td>\n",
       "      <td>-3.86790</td>\n",
       "      <td>-3.71510</td>\n",
       "      <td>2.168300</td>\n",
       "      <td>-1.53630</td>\n",
       "      <td>0.249230</td>\n",
       "      <td>-1.553400</td>\n",
       "    </tr>\n",
       "    <tr>\n",
       "      <th>1</th>\n",
       "      <td>-0.749120</td>\n",
       "      <td>-11.4410</td>\n",
       "      <td>-2.22010</td>\n",
       "      <td>-0.16984</td>\n",
       "      <td>-1.65400</td>\n",
       "      <td>-2.002900</td>\n",
       "      <td>-1.58610</td>\n",
       "      <td>0.207080</td>\n",
       "      <td>-1.544300</td>\n",
       "    </tr>\n",
       "    <tr>\n",
       "      <th>2</th>\n",
       "      <td>0.544810</td>\n",
       "      <td>-11.1140</td>\n",
       "      <td>-2.61510</td>\n",
       "      <td>1.03010</td>\n",
       "      <td>-1.32780</td>\n",
       "      <td>-2.212900</td>\n",
       "      <td>-1.51040</td>\n",
       "      <td>0.177760</td>\n",
       "      <td>-1.522000</td>\n",
       "    </tr>\n",
       "    <tr>\n",
       "      <th>3</th>\n",
       "      <td>2.506100</td>\n",
       "      <td>-11.2100</td>\n",
       "      <td>-0.85808</td>\n",
       "      <td>2.74980</td>\n",
       "      <td>-1.41550</td>\n",
       "      <td>-0.424120</td>\n",
       "      <td>-1.07480</td>\n",
       "      <td>-0.084299</td>\n",
       "      <td>-1.457800</td>\n",
       "    </tr>\n",
       "    <tr>\n",
       "      <th>4</th>\n",
       "      <td>2.192900</td>\n",
       "      <td>-9.9156</td>\n",
       "      <td>1.49820</td>\n",
       "      <td>1.98060</td>\n",
       "      <td>-0.11321</td>\n",
       "      <td>1.693900</td>\n",
       "      <td>-0.82345</td>\n",
       "      <td>-1.181400</td>\n",
       "      <td>-1.894000</td>\n",
       "    </tr>\n",
       "    <tr>\n",
       "      <th>...</th>\n",
       "      <td>...</td>\n",
       "      <td>...</td>\n",
       "      <td>...</td>\n",
       "      <td>...</td>\n",
       "      <td>...</td>\n",
       "      <td>...</td>\n",
       "      <td>...</td>\n",
       "      <td>...</td>\n",
       "      <td>...</td>\n",
       "    </tr>\n",
       "    <tr>\n",
       "      <th>62995</th>\n",
       "      <td>-0.081722</td>\n",
       "      <td>-9.6977</td>\n",
       "      <td>-3.60940</td>\n",
       "      <td>1.00890</td>\n",
       "      <td>-0.25132</td>\n",
       "      <td>-1.212100</td>\n",
       "      <td>-0.44685</td>\n",
       "      <td>0.435850</td>\n",
       "      <td>0.283750</td>\n",
       "    </tr>\n",
       "    <tr>\n",
       "      <th>62996</th>\n",
       "      <td>0.068102</td>\n",
       "      <td>-11.1010</td>\n",
       "      <td>-5.58430</td>\n",
       "      <td>1.18720</td>\n",
       "      <td>-1.69020</td>\n",
       "      <td>-3.062100</td>\n",
       "      <td>-0.66676</td>\n",
       "      <td>0.441040</td>\n",
       "      <td>0.271840</td>\n",
       "    </tr>\n",
       "    <tr>\n",
       "      <th>62997</th>\n",
       "      <td>1.484600</td>\n",
       "      <td>-13.5930</td>\n",
       "      <td>-2.62870</td>\n",
       "      <td>2.57360</td>\n",
       "      <td>-4.22070</td>\n",
       "      <td>0.043749</td>\n",
       "      <td>-1.03300</td>\n",
       "      <td>0.354300</td>\n",
       "      <td>0.077580</td>\n",
       "    </tr>\n",
       "    <tr>\n",
       "      <th>62998</th>\n",
       "      <td>1.539100</td>\n",
       "      <td>-15.1870</td>\n",
       "      <td>-5.96570</td>\n",
       "      <td>2.56300</td>\n",
       "      <td>-5.91120</td>\n",
       "      <td>-2.951300</td>\n",
       "      <td>-1.55470</td>\n",
       "      <td>-0.414170</td>\n",
       "      <td>-0.083689</td>\n",
       "    </tr>\n",
       "    <tr>\n",
       "      <th>62999</th>\n",
       "      <td>-0.585670</td>\n",
       "      <td>-15.8000</td>\n",
       "      <td>-5.12130</td>\n",
       "      <td>0.40361</td>\n",
       "      <td>-6.64580</td>\n",
       "      <td>-1.744900</td>\n",
       "      <td>-2.24830</td>\n",
       "      <td>-0.693640</td>\n",
       "      <td>-0.251070</td>\n",
       "    </tr>\n",
       "  </tbody>\n",
       "</table>\n",
       "<p>630000 rows × 9 columns</p>\n",
       "</div>"
      ],
      "text/plain": [
       "             Ax       Ay       Az       Lx       Ly        Lz       Gx  \\\n",
       "0     -4.317700 -13.5110  2.17930 -3.86790 -3.71510  2.168300 -1.53630   \n",
       "1     -0.749120 -11.4410 -2.22010 -0.16984 -1.65400 -2.002900 -1.58610   \n",
       "2      0.544810 -11.1140 -2.61510  1.03010 -1.32780 -2.212900 -1.51040   \n",
       "3      2.506100 -11.2100 -0.85808  2.74980 -1.41550 -0.424120 -1.07480   \n",
       "4      2.192900  -9.9156  1.49820  1.98060 -0.11321  1.693900 -0.82345   \n",
       "...         ...      ...      ...      ...      ...       ...      ...   \n",
       "62995 -0.081722  -9.6977 -3.60940  1.00890 -0.25132 -1.212100 -0.44685   \n",
       "62996  0.068102 -11.1010 -5.58430  1.18720 -1.69020 -3.062100 -0.66676   \n",
       "62997  1.484600 -13.5930 -2.62870  2.57360 -4.22070  0.043749 -1.03300   \n",
       "62998  1.539100 -15.1870 -5.96570  2.56300 -5.91120 -2.951300 -1.55470   \n",
       "62999 -0.585670 -15.8000 -5.12130  0.40361 -6.64580 -1.744900 -2.24830   \n",
       "\n",
       "             Gy        Gz  \n",
       "0      0.249230 -1.553400  \n",
       "1      0.207080 -1.544300  \n",
       "2      0.177760 -1.522000  \n",
       "3     -0.084299 -1.457800  \n",
       "4     -1.181400 -1.894000  \n",
       "...         ...       ...  \n",
       "62995  0.435850  0.283750  \n",
       "62996  0.441040  0.271840  \n",
       "62997  0.354300  0.077580  \n",
       "62998 -0.414170 -0.083689  \n",
       "62999 -0.693640 -0.251070  \n",
       "\n",
       "[630000 rows x 9 columns]"
      ]
     },
     "execution_count": 14,
     "metadata": {},
     "output_type": "execute_result"
    }
   ],
   "source": [
    "right_pocket = df[df.columns[15:24]]\n",
    "right_pocket.columns=left_pocket.columns\n",
    "right_pocket"
   ]
  },
  {
   "cell_type": "code",
   "execution_count": 31,
   "metadata": {
    "colab": {
     "base_uri": "https://localhost:8080/",
     "height": 419
    },
    "id": "rULigNX_5DKq",
    "outputId": "aafa2506-bd50-475e-a1e9-8bba5c73a55e"
   },
   "outputs": [
    {
     "data": {
      "text/html": [
       "<div>\n",
       "<style scoped>\n",
       "    .dataframe tbody tr th:only-of-type {\n",
       "        vertical-align: middle;\n",
       "    }\n",
       "\n",
       "    .dataframe tbody tr th {\n",
       "        vertical-align: top;\n",
       "    }\n",
       "\n",
       "    .dataframe thead th {\n",
       "        text-align: right;\n",
       "    }\n",
       "</style>\n",
       "<table border=\"1\" class=\"dataframe\">\n",
       "  <thead>\n",
       "    <tr style=\"text-align: right;\">\n",
       "      <th></th>\n",
       "      <th>Ax</th>\n",
       "      <th>Ay</th>\n",
       "      <th>Az</th>\n",
       "      <th>Lx</th>\n",
       "      <th>Ly</th>\n",
       "      <th>Lz</th>\n",
       "      <th>Gx</th>\n",
       "      <th>Gy</th>\n",
       "      <th>Gz</th>\n",
       "    </tr>\n",
       "  </thead>\n",
       "  <tbody>\n",
       "    <tr>\n",
       "      <th>0</th>\n",
       "      <td>1.566300</td>\n",
       "      <td>-7.4640</td>\n",
       "      <td>2.50610</td>\n",
       "      <td>-0.72489</td>\n",
       "      <td>2.01760</td>\n",
       "      <td>1.495500</td>\n",
       "      <td>1.56560</td>\n",
       "      <td>-1.53020</td>\n",
       "      <td>-0.090713</td>\n",
       "    </tr>\n",
       "    <tr>\n",
       "      <th>1</th>\n",
       "      <td>2.233700</td>\n",
       "      <td>-8.0769</td>\n",
       "      <td>3.41870</td>\n",
       "      <td>-0.07754</td>\n",
       "      <td>1.36890</td>\n",
       "      <td>2.151700</td>\n",
       "      <td>1.13380</td>\n",
       "      <td>-0.37080</td>\n",
       "      <td>-0.376900</td>\n",
       "    </tr>\n",
       "    <tr>\n",
       "      <th>2</th>\n",
       "      <td>0.190680</td>\n",
       "      <td>-10.3510</td>\n",
       "      <td>0.10896</td>\n",
       "      <td>-1.75790</td>\n",
       "      <td>-0.81255</td>\n",
       "      <td>-1.066800</td>\n",
       "      <td>1.18360</td>\n",
       "      <td>-0.66279</td>\n",
       "      <td>-0.554670</td>\n",
       "    </tr>\n",
       "    <tr>\n",
       "      <th>3</th>\n",
       "      <td>-0.681020</td>\n",
       "      <td>-10.2290</td>\n",
       "      <td>-1.32120</td>\n",
       "      <td>-2.36530</td>\n",
       "      <td>-0.61226</td>\n",
       "      <td>-2.245400</td>\n",
       "      <td>1.20000</td>\n",
       "      <td>-1.45690</td>\n",
       "      <td>-0.396450</td>\n",
       "    </tr>\n",
       "    <tr>\n",
       "      <th>4</th>\n",
       "      <td>-0.149820</td>\n",
       "      <td>-9.8884</td>\n",
       "      <td>-1.60720</td>\n",
       "      <td>-1.65250</td>\n",
       "      <td>-0.22073</td>\n",
       "      <td>-2.277300</td>\n",
       "      <td>0.93432</td>\n",
       "      <td>-0.97708</td>\n",
       "      <td>-0.450510</td>\n",
       "    </tr>\n",
       "    <tr>\n",
       "      <th>...</th>\n",
       "      <td>...</td>\n",
       "      <td>...</td>\n",
       "      <td>...</td>\n",
       "      <td>...</td>\n",
       "      <td>...</td>\n",
       "      <td>...</td>\n",
       "      <td>...</td>\n",
       "      <td>...</td>\n",
       "      <td>...</td>\n",
       "    </tr>\n",
       "    <tr>\n",
       "      <th>62995</th>\n",
       "      <td>-0.081722</td>\n",
       "      <td>-9.6977</td>\n",
       "      <td>-3.60940</td>\n",
       "      <td>1.00890</td>\n",
       "      <td>-0.25132</td>\n",
       "      <td>-1.212100</td>\n",
       "      <td>-0.44685</td>\n",
       "      <td>0.43585</td>\n",
       "      <td>0.283750</td>\n",
       "    </tr>\n",
       "    <tr>\n",
       "      <th>62996</th>\n",
       "      <td>0.068102</td>\n",
       "      <td>-11.1010</td>\n",
       "      <td>-5.58430</td>\n",
       "      <td>1.18720</td>\n",
       "      <td>-1.69020</td>\n",
       "      <td>-3.062100</td>\n",
       "      <td>-0.66676</td>\n",
       "      <td>0.44104</td>\n",
       "      <td>0.271840</td>\n",
       "    </tr>\n",
       "    <tr>\n",
       "      <th>62997</th>\n",
       "      <td>1.484600</td>\n",
       "      <td>-13.5930</td>\n",
       "      <td>-2.62870</td>\n",
       "      <td>2.57360</td>\n",
       "      <td>-4.22070</td>\n",
       "      <td>0.043749</td>\n",
       "      <td>-1.03300</td>\n",
       "      <td>0.35430</td>\n",
       "      <td>0.077580</td>\n",
       "    </tr>\n",
       "    <tr>\n",
       "      <th>62998</th>\n",
       "      <td>1.539100</td>\n",
       "      <td>-15.1870</td>\n",
       "      <td>-5.96570</td>\n",
       "      <td>2.56300</td>\n",
       "      <td>-5.91120</td>\n",
       "      <td>-2.951300</td>\n",
       "      <td>-1.55470</td>\n",
       "      <td>-0.41417</td>\n",
       "      <td>-0.083689</td>\n",
       "    </tr>\n",
       "    <tr>\n",
       "      <th>62999</th>\n",
       "      <td>-0.585670</td>\n",
       "      <td>-15.8000</td>\n",
       "      <td>-5.12130</td>\n",
       "      <td>0.40361</td>\n",
       "      <td>-6.64580</td>\n",
       "      <td>-1.744900</td>\n",
       "      <td>-2.24830</td>\n",
       "      <td>-0.69364</td>\n",
       "      <td>-0.251070</td>\n",
       "    </tr>\n",
       "  </tbody>\n",
       "</table>\n",
       "<p>1260000 rows × 9 columns</p>\n",
       "</div>"
      ],
      "text/plain": [
       "             Ax       Ay       Az       Lx       Ly        Lz       Gx  \\\n",
       "0      1.566300  -7.4640  2.50610 -0.72489  2.01760  1.495500  1.56560   \n",
       "1      2.233700  -8.0769  3.41870 -0.07754  1.36890  2.151700  1.13380   \n",
       "2      0.190680 -10.3510  0.10896 -1.75790 -0.81255 -1.066800  1.18360   \n",
       "3     -0.681020 -10.2290 -1.32120 -2.36530 -0.61226 -2.245400  1.20000   \n",
       "4     -0.149820  -9.8884 -1.60720 -1.65250 -0.22073 -2.277300  0.93432   \n",
       "...         ...      ...      ...      ...      ...       ...      ...   \n",
       "62995 -0.081722  -9.6977 -3.60940  1.00890 -0.25132 -1.212100 -0.44685   \n",
       "62996  0.068102 -11.1010 -5.58430  1.18720 -1.69020 -3.062100 -0.66676   \n",
       "62997  1.484600 -13.5930 -2.62870  2.57360 -4.22070  0.043749 -1.03300   \n",
       "62998  1.539100 -15.1870 -5.96570  2.56300 -5.91120 -2.951300 -1.55470   \n",
       "62999 -0.585670 -15.8000 -5.12130  0.40361 -6.64580 -1.744900 -2.24830   \n",
       "\n",
       "            Gy        Gz  \n",
       "0     -1.53020 -0.090713  \n",
       "1     -0.37080 -0.376900  \n",
       "2     -0.66279 -0.554670  \n",
       "3     -1.45690 -0.396450  \n",
       "4     -0.97708 -0.450510  \n",
       "...        ...       ...  \n",
       "62995  0.43585  0.283750  \n",
       "62996  0.44104  0.271840  \n",
       "62997  0.35430  0.077580  \n",
       "62998 -0.41417 -0.083689  \n",
       "62999 -0.69364 -0.251070  \n",
       "\n",
       "[1260000 rows x 9 columns]"
      ]
     },
     "execution_count": 31,
     "metadata": {},
     "output_type": "execute_result"
    }
   ],
   "source": [
    "# concatenate left and right split in one data frame\n",
    "\n",
    "full_data=pd.concat([left_pocket,right_pocket],sort=False)\n",
    "full_data"
   ]
  },
  {
   "cell_type": "code",
   "execution_count": 32,
   "metadata": {
    "colab": {
     "base_uri": "https://localhost:8080/",
     "height": 419
    },
    "id": "m5rdhgd_5DKr",
    "outputId": "716f0325-fbd1-4bd3-8fb9-bf0edeb83f98"
   },
   "outputs": [
    {
     "data": {
      "text/html": [
       "<div>\n",
       "<style scoped>\n",
       "    .dataframe tbody tr th:only-of-type {\n",
       "        vertical-align: middle;\n",
       "    }\n",
       "\n",
       "    .dataframe tbody tr th {\n",
       "        vertical-align: top;\n",
       "    }\n",
       "\n",
       "    .dataframe thead th {\n",
       "        text-align: right;\n",
       "    }\n",
       "</style>\n",
       "<table border=\"1\" class=\"dataframe\">\n",
       "  <thead>\n",
       "    <tr style=\"text-align: right;\">\n",
       "      <th></th>\n",
       "      <th>Ax</th>\n",
       "      <th>Ay</th>\n",
       "      <th>Az</th>\n",
       "      <th>Lx</th>\n",
       "      <th>Ly</th>\n",
       "      <th>Lz</th>\n",
       "      <th>Gx</th>\n",
       "      <th>Gy</th>\n",
       "      <th>Gz</th>\n",
       "      <th>Activity</th>\n",
       "    </tr>\n",
       "  </thead>\n",
       "  <tbody>\n",
       "    <tr>\n",
       "      <th>0</th>\n",
       "      <td>1.566300</td>\n",
       "      <td>-7.4640</td>\n",
       "      <td>2.50610</td>\n",
       "      <td>-0.72489</td>\n",
       "      <td>2.01760</td>\n",
       "      <td>1.495500</td>\n",
       "      <td>1.56560</td>\n",
       "      <td>-1.53020</td>\n",
       "      <td>-0.090713</td>\n",
       "      <td>walking</td>\n",
       "    </tr>\n",
       "    <tr>\n",
       "      <th>1</th>\n",
       "      <td>2.233700</td>\n",
       "      <td>-8.0769</td>\n",
       "      <td>3.41870</td>\n",
       "      <td>-0.07754</td>\n",
       "      <td>1.36890</td>\n",
       "      <td>2.151700</td>\n",
       "      <td>1.13380</td>\n",
       "      <td>-0.37080</td>\n",
       "      <td>-0.376900</td>\n",
       "      <td>walking</td>\n",
       "    </tr>\n",
       "    <tr>\n",
       "      <th>2</th>\n",
       "      <td>0.190680</td>\n",
       "      <td>-10.3510</td>\n",
       "      <td>0.10896</td>\n",
       "      <td>-1.75790</td>\n",
       "      <td>-0.81255</td>\n",
       "      <td>-1.066800</td>\n",
       "      <td>1.18360</td>\n",
       "      <td>-0.66279</td>\n",
       "      <td>-0.554670</td>\n",
       "      <td>walking</td>\n",
       "    </tr>\n",
       "    <tr>\n",
       "      <th>3</th>\n",
       "      <td>-0.681020</td>\n",
       "      <td>-10.2290</td>\n",
       "      <td>-1.32120</td>\n",
       "      <td>-2.36530</td>\n",
       "      <td>-0.61226</td>\n",
       "      <td>-2.245400</td>\n",
       "      <td>1.20000</td>\n",
       "      <td>-1.45690</td>\n",
       "      <td>-0.396450</td>\n",
       "      <td>walking</td>\n",
       "    </tr>\n",
       "    <tr>\n",
       "      <th>4</th>\n",
       "      <td>-0.149820</td>\n",
       "      <td>-9.8884</td>\n",
       "      <td>-1.60720</td>\n",
       "      <td>-1.65250</td>\n",
       "      <td>-0.22073</td>\n",
       "      <td>-2.277300</td>\n",
       "      <td>0.93432</td>\n",
       "      <td>-0.97708</td>\n",
       "      <td>-0.450510</td>\n",
       "      <td>walking</td>\n",
       "    </tr>\n",
       "    <tr>\n",
       "      <th>...</th>\n",
       "      <td>...</td>\n",
       "      <td>...</td>\n",
       "      <td>...</td>\n",
       "      <td>...</td>\n",
       "      <td>...</td>\n",
       "      <td>...</td>\n",
       "      <td>...</td>\n",
       "      <td>...</td>\n",
       "      <td>...</td>\n",
       "      <td>...</td>\n",
       "    </tr>\n",
       "    <tr>\n",
       "      <th>62995</th>\n",
       "      <td>-0.081722</td>\n",
       "      <td>-9.6977</td>\n",
       "      <td>-3.60940</td>\n",
       "      <td>1.00890</td>\n",
       "      <td>-0.25132</td>\n",
       "      <td>-1.212100</td>\n",
       "      <td>-0.44685</td>\n",
       "      <td>0.43585</td>\n",
       "      <td>0.283750</td>\n",
       "      <td>downstairs</td>\n",
       "    </tr>\n",
       "    <tr>\n",
       "      <th>62996</th>\n",
       "      <td>0.068102</td>\n",
       "      <td>-11.1010</td>\n",
       "      <td>-5.58430</td>\n",
       "      <td>1.18720</td>\n",
       "      <td>-1.69020</td>\n",
       "      <td>-3.062100</td>\n",
       "      <td>-0.66676</td>\n",
       "      <td>0.44104</td>\n",
       "      <td>0.271840</td>\n",
       "      <td>downstairs</td>\n",
       "    </tr>\n",
       "    <tr>\n",
       "      <th>62997</th>\n",
       "      <td>1.484600</td>\n",
       "      <td>-13.5930</td>\n",
       "      <td>-2.62870</td>\n",
       "      <td>2.57360</td>\n",
       "      <td>-4.22070</td>\n",
       "      <td>0.043749</td>\n",
       "      <td>-1.03300</td>\n",
       "      <td>0.35430</td>\n",
       "      <td>0.077580</td>\n",
       "      <td>downstairs</td>\n",
       "    </tr>\n",
       "    <tr>\n",
       "      <th>62998</th>\n",
       "      <td>1.539100</td>\n",
       "      <td>-15.1870</td>\n",
       "      <td>-5.96570</td>\n",
       "      <td>2.56300</td>\n",
       "      <td>-5.91120</td>\n",
       "      <td>-2.951300</td>\n",
       "      <td>-1.55470</td>\n",
       "      <td>-0.41417</td>\n",
       "      <td>-0.083689</td>\n",
       "      <td>downstairs</td>\n",
       "    </tr>\n",
       "    <tr>\n",
       "      <th>62999</th>\n",
       "      <td>-0.585670</td>\n",
       "      <td>-15.8000</td>\n",
       "      <td>-5.12130</td>\n",
       "      <td>0.40361</td>\n",
       "      <td>-6.64580</td>\n",
       "      <td>-1.744900</td>\n",
       "      <td>-2.24830</td>\n",
       "      <td>-0.69364</td>\n",
       "      <td>-0.251070</td>\n",
       "      <td>downstairs</td>\n",
       "    </tr>\n",
       "  </tbody>\n",
       "</table>\n",
       "<p>1260000 rows × 10 columns</p>\n",
       "</div>"
      ],
      "text/plain": [
       "             Ax       Ay       Az       Lx       Ly        Lz       Gx  \\\n",
       "0      1.566300  -7.4640  2.50610 -0.72489  2.01760  1.495500  1.56560   \n",
       "1      2.233700  -8.0769  3.41870 -0.07754  1.36890  2.151700  1.13380   \n",
       "2      0.190680 -10.3510  0.10896 -1.75790 -0.81255 -1.066800  1.18360   \n",
       "3     -0.681020 -10.2290 -1.32120 -2.36530 -0.61226 -2.245400  1.20000   \n",
       "4     -0.149820  -9.8884 -1.60720 -1.65250 -0.22073 -2.277300  0.93432   \n",
       "...         ...      ...      ...      ...      ...       ...      ...   \n",
       "62995 -0.081722  -9.6977 -3.60940  1.00890 -0.25132 -1.212100 -0.44685   \n",
       "62996  0.068102 -11.1010 -5.58430  1.18720 -1.69020 -3.062100 -0.66676   \n",
       "62997  1.484600 -13.5930 -2.62870  2.57360 -4.22070  0.043749 -1.03300   \n",
       "62998  1.539100 -15.1870 -5.96570  2.56300 -5.91120 -2.951300 -1.55470   \n",
       "62999 -0.585670 -15.8000 -5.12130  0.40361 -6.64580 -1.744900 -2.24830   \n",
       "\n",
       "            Gy        Gz    Activity  \n",
       "0     -1.53020 -0.090713     walking  \n",
       "1     -0.37080 -0.376900     walking  \n",
       "2     -0.66279 -0.554670     walking  \n",
       "3     -1.45690 -0.396450     walking  \n",
       "4     -0.97708 -0.450510     walking  \n",
       "...        ...       ...         ...  \n",
       "62995  0.43585  0.283750  downstairs  \n",
       "62996  0.44104  0.271840  downstairs  \n",
       "62997  0.35430  0.077580  downstairs  \n",
       "62998 -0.41417 -0.083689  downstairs  \n",
       "62999 -0.69364 -0.251070  downstairs  \n",
       "\n",
       "[1260000 rows x 10 columns]"
      ]
     },
     "execution_count": 32,
     "metadata": {},
     "output_type": "execute_result"
    }
   ],
   "source": [
    "# restore labels in dataframe\n",
    "labels=pd.concat([df['Unnamed: 69'],df['Unnamed: 69']],axis=0, sort=False)\n",
    "labels.columns=['Activity']\n",
    "full_data['Activity']=labels\n",
    "full_data"
   ]
  },
  {
   "cell_type": "code",
   "execution_count": 17,
   "metadata": {
    "colab": {
     "base_uri": "https://localhost:8080/"
    },
    "id": "En2g6nbX5DKr",
    "outputId": "4e763dba-9d84-465a-b961-cbb30ebad920"
   },
   "outputs": [
    {
     "data": {
      "text/plain": [
       "array(['walking', 'standing', 'jogging', 'sitting', 'biking', 'upsatirs',\n",
       "       'downstairs', 'upstairs'], dtype=object)"
      ]
     },
     "execution_count": 17,
     "metadata": {},
     "output_type": "execute_result"
    }
   ],
   "source": [
    "#check for unique labels\n",
    "full_data.Activity.unique()"
   ]
  },
  {
   "cell_type": "code",
   "execution_count": 33,
   "metadata": {
    "colab": {
     "base_uri": "https://localhost:8080/"
    },
    "id": "qjT9xMdc5DKr",
    "outputId": "d6d95148-b0e1-4f9e-b01d-4f8afaa5cb41"
   },
   "outputs": [
    {
     "name": "stderr",
     "output_type": "stream",
     "text": [
      "/var/folders/hc/4_spfx051b5d36rrtssgcwl80000gn/T/ipykernel_79744/3208768380.py:1: SettingWithCopyWarning: \n",
      "A value is trying to be set on a copy of a slice from a DataFrame\n",
      "\n",
      "See the caveats in the documentation: https://pandas.pydata.org/pandas-docs/stable/user_guide/indexing.html#returning-a-view-versus-a-copy\n",
      "  full_data.Activity.loc[(full_data.Activity == 'upsatirs')] = 'upstairs'\n"
     ]
    },
    {
     "data": {
      "text/plain": [
       "array(['walking', 'standing', 'jogging', 'sitting', 'biking', 'upstairs',\n",
       "       'downstairs'], dtype=object)"
      ]
     },
     "execution_count": 33,
     "metadata": {},
     "output_type": "execute_result"
    }
   ],
   "source": [
    "full_data.Activity.loc[(full_data.Activity == 'upsatirs')] = 'upstairs'\n",
    "full_data.Activity.unique()"
   ]
  },
  {
   "attachments": {},
   "cell_type": "markdown",
   "metadata": {
    "id": "KkyxbF9o5DKr"
   },
   "source": [
    "# Preprocessing "
   ]
  },
  {
   "cell_type": "code",
   "execution_count": 34,
   "metadata": {},
   "outputs": [
    {
     "data": {
      "text/html": [
       "<div>\n",
       "<style scoped>\n",
       "    .dataframe tbody tr th:only-of-type {\n",
       "        vertical-align: middle;\n",
       "    }\n",
       "\n",
       "    .dataframe tbody tr th {\n",
       "        vertical-align: top;\n",
       "    }\n",
       "\n",
       "    .dataframe thead th {\n",
       "        text-align: right;\n",
       "    }\n",
       "</style>\n",
       "<table border=\"1\" class=\"dataframe\">\n",
       "  <thead>\n",
       "    <tr style=\"text-align: right;\">\n",
       "      <th></th>\n",
       "      <th>Ax</th>\n",
       "      <th>Ay</th>\n",
       "      <th>Az</th>\n",
       "      <th>Lx</th>\n",
       "      <th>Ly</th>\n",
       "      <th>Lz</th>\n",
       "      <th>Gx</th>\n",
       "      <th>Gy</th>\n",
       "      <th>Gz</th>\n",
       "      <th>Activity</th>\n",
       "    </tr>\n",
       "  </thead>\n",
       "  <tbody>\n",
       "    <tr>\n",
       "      <th>0</th>\n",
       "      <td>1.5663</td>\n",
       "      <td>-7.464</td>\n",
       "      <td>2.5061</td>\n",
       "      <td>-0.72489</td>\n",
       "      <td>2.0176</td>\n",
       "      <td>1.4955</td>\n",
       "      <td>1.5656</td>\n",
       "      <td>-1.5302</td>\n",
       "      <td>-0.090713</td>\n",
       "      <td>walking</td>\n",
       "    </tr>\n",
       "  </tbody>\n",
       "</table>\n",
       "</div>"
      ],
      "text/plain": [
       "       Ax     Ay      Az       Lx      Ly      Lz      Gx      Gy        Gz  \\\n",
       "0  1.5663 -7.464  2.5061 -0.72489  2.0176  1.4955  1.5656 -1.5302 -0.090713   \n",
       "\n",
       "  Activity  \n",
       "0  walking  "
      ]
     },
     "execution_count": 34,
     "metadata": {},
     "output_type": "execute_result"
    }
   ],
   "source": [
    "full_data.head(1)"
   ]
  },
  {
   "cell_type": "code",
   "execution_count": 37,
   "metadata": {},
   "outputs": [
    {
     "data": {
      "text/plain": [
       "0           walking\n",
       "1           walking\n",
       "2           walking\n",
       "3           walking\n",
       "4           walking\n",
       "            ...    \n",
       "62995    downstairs\n",
       "62996    downstairs\n",
       "62997    downstairs\n",
       "62998    downstairs\n",
       "62999    downstairs\n",
       "Name: Activity, Length: 1260000, dtype: object"
      ]
     },
     "execution_count": 37,
     "metadata": {},
     "output_type": "execute_result"
    }
   ],
   "source": [
    "full_data[full_data.columns[-1]]"
   ]
  },
  {
   "attachments": {},
   "cell_type": "markdown",
   "metadata": {},
   "source": [
    "## Scaling"
   ]
  },
  {
   "cell_type": "code",
   "execution_count": 62,
   "metadata": {},
   "outputs": [],
   "source": [
    "from sklearn.preprocessing import StandardScaler\n",
    "scaler = StandardScaler()\n",
    "scaled = scaler.fit_transform(full_data[full_data.columns[:-1]])\n",
    "\n",
    "scaled = pd.DataFrame(data = scaled, columns =  full_data[full_data.columns[:-1]].columns)\n",
    "scaled['Label'] = full_data[full_data.columns[-1]].values"
   ]
  },
  {
   "cell_type": "code",
   "execution_count": 63,
   "metadata": {},
   "outputs": [
    {
     "data": {
      "text/html": [
       "<div>\n",
       "<style scoped>\n",
       "    .dataframe tbody tr th:only-of-type {\n",
       "        vertical-align: middle;\n",
       "    }\n",
       "\n",
       "    .dataframe tbody tr th {\n",
       "        vertical-align: top;\n",
       "    }\n",
       "\n",
       "    .dataframe thead th {\n",
       "        text-align: right;\n",
       "    }\n",
       "</style>\n",
       "<table border=\"1\" class=\"dataframe\">\n",
       "  <thead>\n",
       "    <tr style=\"text-align: right;\">\n",
       "      <th></th>\n",
       "      <th>Ax</th>\n",
       "      <th>Ay</th>\n",
       "      <th>Az</th>\n",
       "      <th>Lx</th>\n",
       "      <th>Ly</th>\n",
       "      <th>Lz</th>\n",
       "      <th>Gx</th>\n",
       "      <th>Gy</th>\n",
       "      <th>Gz</th>\n",
       "      <th>Label</th>\n",
       "    </tr>\n",
       "  </thead>\n",
       "  <tbody>\n",
       "    <tr>\n",
       "      <th>0</th>\n",
       "      <td>0.227397</td>\n",
       "      <td>0.022322</td>\n",
       "      <td>1.208985</td>\n",
       "      <td>-0.264575</td>\n",
       "      <td>0.554205</td>\n",
       "      <td>0.457299</td>\n",
       "      <td>1.037012</td>\n",
       "      <td>-1.135640</td>\n",
       "      <td>-0.103532</td>\n",
       "      <td>walking</td>\n",
       "    </tr>\n",
       "    <tr>\n",
       "      <th>1</th>\n",
       "      <td>0.394274</td>\n",
       "      <td>-0.087468</td>\n",
       "      <td>1.416520</td>\n",
       "      <td>-0.035456</td>\n",
       "      <td>0.397925</td>\n",
       "      <td>0.675807</td>\n",
       "      <td>0.752615</td>\n",
       "      <td>-0.282753</td>\n",
       "      <td>-0.434180</td>\n",
       "      <td>walking</td>\n",
       "    </tr>\n",
       "    <tr>\n",
       "      <th>2</th>\n",
       "      <td>-0.116563</td>\n",
       "      <td>-0.494833</td>\n",
       "      <td>0.663849</td>\n",
       "      <td>-0.630190</td>\n",
       "      <td>-0.127613</td>\n",
       "      <td>-0.395921</td>\n",
       "      <td>0.785415</td>\n",
       "      <td>-0.497549</td>\n",
       "      <td>-0.639568</td>\n",
       "      <td>walking</td>\n",
       "    </tr>\n",
       "    <tr>\n",
       "      <th>3</th>\n",
       "      <td>-0.334523</td>\n",
       "      <td>-0.472979</td>\n",
       "      <td>0.338615</td>\n",
       "      <td>-0.845169</td>\n",
       "      <td>-0.079361</td>\n",
       "      <td>-0.788383</td>\n",
       "      <td>0.796216</td>\n",
       "      <td>-1.081719</td>\n",
       "      <td>-0.456768</td>\n",
       "      <td>walking</td>\n",
       "    </tr>\n",
       "    <tr>\n",
       "      <th>4</th>\n",
       "      <td>-0.201702</td>\n",
       "      <td>-0.411966</td>\n",
       "      <td>0.273576</td>\n",
       "      <td>-0.592886</td>\n",
       "      <td>0.014963</td>\n",
       "      <td>-0.799005</td>\n",
       "      <td>0.621231</td>\n",
       "      <td>-0.728750</td>\n",
       "      <td>-0.519226</td>\n",
       "      <td>walking</td>\n",
       "    </tr>\n",
       "  </tbody>\n",
       "</table>\n",
       "</div>"
      ],
      "text/plain": [
       "         Ax        Ay        Az        Lx        Ly        Lz        Gx  \\\n",
       "0  0.227397  0.022322  1.208985 -0.264575  0.554205  0.457299  1.037012   \n",
       "1  0.394274 -0.087468  1.416520 -0.035456  0.397925  0.675807  0.752615   \n",
       "2 -0.116563 -0.494833  0.663849 -0.630190 -0.127613 -0.395921  0.785415   \n",
       "3 -0.334523 -0.472979  0.338615 -0.845169 -0.079361 -0.788383  0.796216   \n",
       "4 -0.201702 -0.411966  0.273576 -0.592886  0.014963 -0.799005  0.621231   \n",
       "\n",
       "         Gy        Gz    Label  \n",
       "0 -1.135640 -0.103532  walking  \n",
       "1 -0.282753 -0.434180  walking  \n",
       "2 -0.497549 -0.639568  walking  \n",
       "3 -1.081719 -0.456768  walking  \n",
       "4 -0.728750 -0.519226  walking  "
      ]
     },
     "execution_count": 63,
     "metadata": {},
     "output_type": "execute_result"
    }
   ],
   "source": [
    "scaled.head()"
   ]
  },
  {
   "cell_type": "markdown",
   "metadata": {
    "id": "-Ks288pZ5DKt"
   },
   "source": [
    "## Encode labels into number"
   ]
  },
  {
   "cell_type": "code",
   "execution_count": 64,
   "metadata": {
    "colab": {
     "base_uri": "https://localhost:8080/"
    },
    "id": "sV5ImXBM5DKt",
    "outputId": "fba854a0-92bc-43e6-9f9e-b39f4d72c5ba",
    "scrolled": false
   },
   "outputs": [
    {
     "data": {
      "text/plain": [
       "0          6\n",
       "1          6\n",
       "2          6\n",
       "3          6\n",
       "4          6\n",
       "          ..\n",
       "1259995    1\n",
       "1259996    1\n",
       "1259997    1\n",
       "1259998    1\n",
       "1259999    1\n",
       "Name: Label, Length: 1260000, dtype: int64"
      ]
     },
     "execution_count": 64,
     "metadata": {},
     "output_type": "execute_result"
    }
   ],
   "source": [
    "from sklearn.preprocessing import LabelEncoder\n",
    "\n",
    "encoder=LabelEncoder()\n",
    "scaled['Label']=encoder.fit_transform(scaled['Label'])\n",
    "scaled['Label']"
   ]
  },
  {
   "cell_type": "code",
   "execution_count": 65,
   "metadata": {},
   "outputs": [
    {
     "data": {
      "text/plain": [
       "array(['biking', 'downstairs', 'jogging', 'sitting', 'standing',\n",
       "       'upstairs', 'walking'], dtype=object)"
      ]
     },
     "execution_count": 65,
     "metadata": {},
     "output_type": "execute_result"
    }
   ],
   "source": [
    "encoder.classes_"
   ]
  },
  {
   "cell_type": "markdown",
   "metadata": {
    "id": "RKXX0oyr5DKu"
   },
   "source": [
    "## Convert dataset into time series sequence"
   ]
  },
  {
   "cell_type": "code",
   "execution_count": 166,
   "metadata": {},
   "outputs": [],
   "source": [
    "import scipy.stats as stats\n",
    "frame_size = 100 # how many samples to be used for the prediction window (150 samples = 3 seconds)\n",
    "hop_size = 50 # how many samples to skip before proceeding to next window (100)\n",
    "N_FEATURES = scaled.columns.size -1"
   ]
  },
  {
   "cell_type": "code",
   "execution_count": 167,
   "metadata": {},
   "outputs": [
    {
     "data": {
      "text/plain": [
       "9"
      ]
     },
     "execution_count": 167,
     "metadata": {},
     "output_type": "execute_result"
    }
   ],
   "source": [
    "N_FEATURES"
   ]
  },
  {
   "cell_type": "code",
   "execution_count": 168,
   "metadata": {
    "id": "hkrm1v8E5DKu"
   },
   "outputs": [
    {
     "name": "stderr",
     "output_type": "stream",
     "text": [
      "/var/folders/hc/4_spfx051b5d36rrtssgcwl80000gn/T/ipykernel_79744/447050504.py:17: FutureWarning: Unlike other reduction functions (e.g. `skew`, `kurtosis`), the default behavior of `mode` typically preserves the axis it acts along. In SciPy 1.11.0, this behavior will change: the default value of `keepdims` will become False, the `axis` over which the statistic is taken will be eliminated, and the value None will no longer be accepted. Set `keepdims` to True or False to avoid this warning.\n",
      "  label = stats.mode(df['Label'][i: i + frame_size])[0][0]\n"
     ]
    },
    {
     "data": {
      "text/plain": [
       "((25198, 100, 9), (25198,))"
      ]
     },
     "execution_count": 168,
     "metadata": {},
     "output_type": "execute_result"
    }
   ],
   "source": [
    "\n",
    "def get_frames(df, frame_size, hop_size):\n",
    "\n",
    "    frames = []\n",
    "    labels = []\n",
    "    for i in range(0, len(df) - frame_size, hop_size):\n",
    "        Ax = df['Ax'].values[i: i + frame_size]\n",
    "        Ay = df['Ay'].values[i: i + frame_size]\n",
    "        Az = df['Az'].values[i: i + frame_size]\n",
    "        Lx\t = df['Lx'].values[i: i + frame_size]\n",
    "        Ly\t = df['Ly'].values[i: i + frame_size]\n",
    "        Lz\t = df['Lz'].values[i: i + frame_size]\n",
    "        Gx  = df['Gx'].values[i: i + frame_size]\n",
    "        Gy  = df['Gy'].values[i: i + frame_size]\n",
    "        Gz  = df['Gz'].values[i: i + frame_size]\n",
    "        \n",
    "        # Retrieve the most often used label in this segment\n",
    "        label = stats.mode(df['Label'][i: i + frame_size])[0][0]\n",
    "        frames.append([\n",
    "            Ax,\n",
    "            Ay,\n",
    "            Az,\n",
    "            Lx,\n",
    "            Ly,\n",
    "            Lz,\n",
    "            Gx,\n",
    "            Gy,\n",
    "            Gz\n",
    "            ])\n",
    "        labels.append(label)\n",
    "\n",
    "    # Bring the segments into a better shape\n",
    "    frames = np.asarray(frames).reshape(-1, frame_size, N_FEATURES)\n",
    "    labels = np.asarray(labels)\n",
    "\n",
    "    return frames, labels\n",
    "\n",
    "X, y = get_frames(scaled, frame_size, hop_size)\n",
    "\n",
    "X.shape, y.shape"
   ]
  },
  {
   "cell_type": "markdown",
   "metadata": {
    "id": "bqi9V9_G5DKt"
   },
   "source": [
    "## Split training data into training and validation data"
   ]
  },
  {
   "cell_type": "code",
   "execution_count": 169,
   "metadata": {
    "colab": {
     "base_uri": "https://localhost:8080/"
    },
    "id": "suXMrR6F5DKt",
    "outputId": "a3adf7cc-d852-4f98-fafc-cc620f0593e1"
   },
   "outputs": [
    {
     "data": {
      "text/plain": [
       "((17638, 100, 9), (7560, 100, 9), (17638,), (7560,))"
      ]
     },
     "execution_count": 169,
     "metadata": {},
     "output_type": "execute_result"
    }
   ],
   "source": [
    "from sklearn.model_selection import train_test_split\n",
    "\n",
    "X_train, X_test, y_train, y_test = train_test_split(X, y, test_size = 0.3, stratify = y, random_state= 24, shuffle=True)\n",
    "\n",
    "#This will be used by the train_test_split() function to ensure that both the train and test sets \n",
    "# have the proportion of examples in each class that is present in the provided “y” array.\n",
    "X_train.shape, X_test.shape, y_train.shape, y_test.shape"
   ]
  },
  {
   "cell_type": "markdown",
   "metadata": {
    "id": "SGLDQRkx5DKu"
   },
   "source": [
    "## Create and compile LSTM model"
   ]
  },
  {
   "cell_type": "code",
   "execution_count": 170,
   "metadata": {
    "id": "pnknIcpl5DKu"
   },
   "outputs": [],
   "source": [
    "from keras.models import Sequential\n",
    "from keras.layers import Dense,Flatten, LSTM\n",
    "from keras.regularizers import l2\n",
    "from keras.optimizers import Adam"
   ]
  },
  {
   "cell_type": "code",
   "execution_count": 171,
   "metadata": {},
   "outputs": [
    {
     "data": {
      "text/plain": [
       "7"
      ]
     },
     "execution_count": 171,
     "metadata": {},
     "output_type": "execute_result"
    }
   ],
   "source": [
    "len(np.unique(y_train))"
   ]
  },
  {
   "cell_type": "code",
   "execution_count": 172,
   "metadata": {
    "colab": {
     "base_uri": "https://localhost:8080/"
    },
    "id": "xD8i5T3b5DKv",
    "outputId": "7397eda8-bf0c-46ad-b9e2-07aae10ab78f"
   },
   "outputs": [
    {
     "name": "stdout",
     "output_type": "stream",
     "text": [
      "Model: \"sequential_2\"\n",
      "_________________________________________________________________\n",
      " Layer (type)                Output Shape              Param #   \n",
      "=================================================================\n",
      " lstm_1 (LSTM)               (None, 100, 32)           5376      \n",
      "                                                                 \n",
      " flatten (Flatten)           (None, 3200)              0         \n",
      "                                                                 \n",
      " dense_1 (Dense)             (None, 64)                204864    \n",
      "                                                                 \n",
      " output (Dense)              (None, 7)                 455       \n",
      "                                                                 \n",
      "=================================================================\n",
      "Total params: 210,695\n",
      "Trainable params: 210,695\n",
      "Non-trainable params: 0\n",
      "_________________________________________________________________\n"
     ]
    }
   ],
   "source": [
    "model=Sequential()\n",
    "model.add(LSTM(32, return_sequences=True, input_shape = (frame_size, N_FEATURES),\n",
    "              kernel_regularizer = l2(0.000001), bias_regularizer = l2(0.000001), name='lstm_1'))\n",
    "model.add(Flatten(name='flatten'))\n",
    "model.add(Dense(64, activation='relu',kernel_regularizer = l2(0.000001), bias_regularizer = l2(0.000001), name='dense_1' ))\n",
    "model.add(Dense(len(np.unique(y_train)), activation='softmax', \n",
    "                kernel_regularizer = l2(0.000001), bias_regularizer = l2(0.000001), name='output'))\n",
    "model.summary()"
   ]
  },
  {
   "cell_type": "code",
   "execution_count": 250,
   "metadata": {},
   "outputs": [],
   "source": [
    "from keras.models import Sequential\n",
    "from keras.layers import Dense, Dropout, LSTM, Bidirectional\n",
    "from keras.optimizers import Adam\n",
    "from keras.datasets import imdb\n",
    "from sklearn.model_selection import train_test_split\n",
    "from keras import callbacks\n",
    "\n",
    "from config import *"
   ]
  },
  {
   "cell_type": "code",
   "execution_count": 220,
   "metadata": {},
   "outputs": [
    {
     "data": {
      "text/plain": [
       "9"
      ]
     },
     "execution_count": 220,
     "metadata": {},
     "output_type": "execute_result"
    }
   ],
   "source": [
    "N_FEATURES"
   ]
  },
  {
   "cell_type": "code",
   "execution_count": 221,
   "metadata": {},
   "outputs": [
    {
     "data": {
      "text/plain": [
       "7"
      ]
     },
     "execution_count": 221,
     "metadata": {},
     "output_type": "execute_result"
    }
   ],
   "source": [
    "len(np.unique(y_train))"
   ]
  },
  {
   "cell_type": "code",
   "execution_count": 222,
   "metadata": {},
   "outputs": [
    {
     "data": {
      "text/plain": [
       "(17638,)"
      ]
     },
     "execution_count": 222,
     "metadata": {},
     "output_type": "execute_result"
    }
   ],
   "source": [
    "y_train.shape"
   ]
  },
  {
   "cell_type": "code",
   "execution_count": 223,
   "metadata": {},
   "outputs": [
    {
     "data": {
      "text/plain": [
       "(7560,)"
      ]
     },
     "execution_count": 223,
     "metadata": {},
     "output_type": "execute_result"
    }
   ],
   "source": [
    "y_test.shape"
   ]
  },
  {
   "cell_type": "code",
   "execution_count": 243,
   "metadata": {},
   "outputs": [],
   "source": [
    "def createBidirectionalLSTM(segment_time_size,\n",
    "                            learning_rate,\n",
    "                            n_hidden_neurons,\n",
    "                            droput_rate,\n",
    "                            n_epochs,\n",
    "                            batch_size,\n",
    "                            X_train, y_train,\n",
    "                            X_val, y_val,\n",
    "                            visualize=False):\n",
    "    \"\"\"\n",
    "    Create a bidirectional Low-short term memory recurrent\n",
    "    neural network for activity recognition.\n",
    "    Input:\n",
    "    - segment_time_size: size of a sliding window,\n",
    "    - n_hidden_neurons: number of hidden neurons (nodes) in one layer,\n",
    "    - \n",
    "    \n",
    "    _rate: learning rate used by the optimizer (Adam),\n",
    "    - droput_rate: dropout rate during training,\n",
    "    - n_epochs: number of epochs for training,\n",
    "    - batch_size: batch size,\n",
    "    - X_train, y_train, X_val, y_val: training and valuation data and labels.\n",
    "    Returns sequential keras model.\n",
    "    \"\"\"\n",
    "    # Build a model\n",
    "    model = Sequential()\n",
    "    model.add(Bidirectional(LSTM(n_hidden_neurons,\n",
    "                            return_sequences=True,\n",
    "                            activation=\"tanh\"), input_shape=(segment_time_size, N_FEATURES),\n",
    "                            merge_mode='sum'))\n",
    "    model.add(Bidirectional(LSTM(n_hidden_neurons)))\n",
    "    model.add(Dropout(droput_rate))\n",
    "    # model.add(Flatten(name='flatten'))\n",
    "    model.add(Dense(len(np.unique(y_train)), activation='sigmoid'))\n",
    "    adam_optimizer = Adam(lr=learning_rate, beta_1=0.9, beta_2=0.999, epsilon=None, decay=0.0, amsgrad=False)\n",
    "    model.compile(optimizer=adam_optimizer, loss='sparse_categorical_crossentropy', metrics=['accuracy'])\n",
    "    history = model.fit(X_train, y_train,\n",
    "                        batch_size=batch_size,\n",
    "                        epochs=n_epochs,\n",
    "                        validation_data=[X_val, y_val])\n",
    "\n",
    "\n",
    "    return model"
   ]
  },
  {
   "cell_type": "code",
   "execution_count": 248,
   "metadata": {},
   "outputs": [],
   "source": [
    "SEGMENT_TIME_SIZE = frame_size\n",
    "LEARNING_RATE = 0.0003\n",
    "N_HIDDEN_NEURONS = 64\n",
    "DROPOUT_RATE = 0.5\n",
    "N_EPOCHS = 30\n",
    "BATCH_SIZE = 64"
   ]
  },
  {
   "cell_type": "code",
   "execution_count": 249,
   "metadata": {},
   "outputs": [
    {
     "name": "stdout",
     "output_type": "stream",
     "text": [
      "Epoch 1/30\n",
      "276/276 [==============================] - 25s 81ms/step - loss: 0.7413 - accuracy: 0.7586 - val_loss: 0.1377 - val_accuracy: 0.9697\n",
      "Epoch 2/30\n",
      "276/276 [==============================] - 22s 79ms/step - loss: 0.1307 - accuracy: 0.9675 - val_loss: 0.0834 - val_accuracy: 0.9763\n",
      "Epoch 3/30\n",
      "276/276 [==============================] - 21s 77ms/step - loss: 0.0924 - accuracy: 0.9765 - val_loss: 0.0639 - val_accuracy: 0.9823\n",
      "Epoch 4/30\n",
      "276/276 [==============================] - 21s 77ms/step - loss: 0.0766 - accuracy: 0.9790 - val_loss: 0.0580 - val_accuracy: 0.9848\n",
      "Epoch 5/30\n",
      "276/276 [==============================] - 28s 103ms/step - loss: 0.0652 - accuracy: 0.9824 - val_loss: 0.0591 - val_accuracy: 0.9827\n",
      "Epoch 6/30\n",
      "276/276 [==============================] - 29s 105ms/step - loss: 0.0690 - accuracy: 0.9813 - val_loss: 0.0567 - val_accuracy: 0.9829\n",
      "Epoch 7/30\n",
      "276/276 [==============================] - 22s 79ms/step - loss: 0.0583 - accuracy: 0.9846 - val_loss: 0.0421 - val_accuracy: 0.9890\n",
      "Epoch 8/30\n",
      "276/276 [==============================] - 21s 75ms/step - loss: 0.0556 - accuracy: 0.9846 - val_loss: 0.0418 - val_accuracy: 0.9881\n",
      "Epoch 9/30\n",
      "276/276 [==============================] - 21s 77ms/step - loss: 0.0529 - accuracy: 0.9847 - val_loss: 0.0581 - val_accuracy: 0.9861\n",
      "Epoch 10/30\n",
      "276/276 [==============================] - 23s 83ms/step - loss: 0.0484 - accuracy: 0.9858 - val_loss: 0.0448 - val_accuracy: 0.9868\n",
      "Epoch 11/30\n",
      "276/276 [==============================] - 35s 126ms/step - loss: 0.0422 - accuracy: 0.9881 - val_loss: 0.0445 - val_accuracy: 0.9872\n",
      "Epoch 12/30\n",
      "276/276 [==============================] - 24s 87ms/step - loss: 0.0412 - accuracy: 0.9878 - val_loss: 0.0415 - val_accuracy: 0.9890\n",
      "Epoch 13/30\n",
      "276/276 [==============================] - 21s 76ms/step - loss: 0.0386 - accuracy: 0.9891 - val_loss: 0.0543 - val_accuracy: 0.9848\n",
      "Epoch 14/30\n",
      "276/276 [==============================] - 21s 77ms/step - loss: 0.0418 - accuracy: 0.9878 - val_loss: 0.0418 - val_accuracy: 0.9886\n",
      "Epoch 15/30\n",
      "276/276 [==============================] - 21s 76ms/step - loss: 0.0435 - accuracy: 0.9871 - val_loss: 0.0392 - val_accuracy: 0.9890\n",
      "Epoch 16/30\n",
      "276/276 [==============================] - 21s 76ms/step - loss: 0.0352 - accuracy: 0.9894 - val_loss: 0.0384 - val_accuracy: 0.9897\n",
      "Epoch 17/30\n",
      "276/276 [==============================] - 22s 79ms/step - loss: 0.0395 - accuracy: 0.9878 - val_loss: 0.0604 - val_accuracy: 0.9847\n",
      "Epoch 18/30\n",
      "276/276 [==============================] - 21s 76ms/step - loss: 0.0413 - accuracy: 0.9878 - val_loss: 0.0409 - val_accuracy: 0.9888\n",
      "Epoch 19/30\n",
      "276/276 [==============================] - 22s 78ms/step - loss: 0.0296 - accuracy: 0.9905 - val_loss: 0.0391 - val_accuracy: 0.9890\n",
      "Epoch 20/30\n",
      "276/276 [==============================] - 22s 79ms/step - loss: 0.0288 - accuracy: 0.9906 - val_loss: 0.0438 - val_accuracy: 0.9882\n",
      "Epoch 21/30\n",
      "276/276 [==============================] - 24s 85ms/step - loss: 0.0314 - accuracy: 0.9905 - val_loss: 0.0371 - val_accuracy: 0.9899\n",
      "Epoch 22/30\n",
      "276/276 [==============================] - 22s 81ms/step - loss: 0.0266 - accuracy: 0.9918 - val_loss: 0.0419 - val_accuracy: 0.9881\n",
      "Epoch 23/30\n",
      "276/276 [==============================] - 22s 81ms/step - loss: 0.0255 - accuracy: 0.9923 - val_loss: 0.0354 - val_accuracy: 0.9909\n",
      "Epoch 24/30\n",
      "276/276 [==============================] - 22s 81ms/step - loss: 0.0231 - accuracy: 0.9926 - val_loss: 0.0408 - val_accuracy: 0.9890\n",
      "Epoch 25/30\n",
      "276/276 [==============================] - 22s 80ms/step - loss: 0.0255 - accuracy: 0.9917 - val_loss: 0.0395 - val_accuracy: 0.9890\n",
      "Epoch 26/30\n",
      "276/276 [==============================] - 24s 87ms/step - loss: 0.0236 - accuracy: 0.9929 - val_loss: 0.0401 - val_accuracy: 0.9878\n",
      "Epoch 27/30\n",
      "276/276 [==============================] - 22s 81ms/step - loss: 0.0207 - accuracy: 0.9937 - val_loss: 0.0361 - val_accuracy: 0.9911\n",
      "Epoch 28/30\n",
      "276/276 [==============================] - 23s 83ms/step - loss: 0.0287 - accuracy: 0.9917 - val_loss: 0.0415 - val_accuracy: 0.9897\n",
      "Epoch 29/30\n",
      "276/276 [==============================] - 22s 79ms/step - loss: 0.0244 - accuracy: 0.9918 - val_loss: 0.0408 - val_accuracy: 0.9894\n",
      "Epoch 30/30\n",
      "276/276 [==============================] - 24s 88ms/step - loss: 0.0182 - accuracy: 0.9933 - val_loss: 0.0361 - val_accuracy: 0.9905\n"
     ]
    }
   ],
   "source": [
    " # Build a model\n",
    "earlystopping = callbacks.EarlyStopping(monitor =\"val_loss\", \n",
    "                                        mode =\"min\", patience = 5, \n",
    "                                        restore_best_weights = True)\n",
    "  \n",
    "\n",
    "model = createBidirectionalLSTM(SEGMENT_TIME_SIZE,\n",
    "                                    LEARNING_RATE,\n",
    "                                    N_HIDDEN_NEURONS,\n",
    "                                    DROPOUT_RATE,\n",
    "                                    N_EPOCHS,\n",
    "                                    BATCH_SIZE,\n",
    "                                    X_train, y_train,\n",
    "                                    X_test, y_test,\n",
    "                                    visualize=True,\n",
    "                                    callbacks =[earlystopping])"
   ]
  },
  {
   "cell_type": "code",
   "execution_count": 272,
   "metadata": {},
   "outputs": [
    {
     "name": "stdout",
     "output_type": "stream",
     "text": [
      "237/237 [==============================] - 3s 11ms/step\n",
      "[3 1 4 0 3]\n"
     ]
    },
    {
     "name": "stderr",
     "output_type": "stream",
     "text": [
      "/var/folders/hc/4_spfx051b5d36rrtssgcwl80000gn/T/ipykernel_79744/917384041.py:11: UserWarning: Matplotlib is currently using agg, which is a non-GUI backend, so cannot show the figure.\n",
      "  plt.show()\n"
     ]
    }
   ],
   "source": [
    "import matplotlib.pyplot as plt\n",
    "from sklearn.datasets import make_classification\n",
    "from sklearn.metrics import ConfusionMatrixDisplay, f1_score\n",
    "\n",
    "y_pred = model.predict(X_test)\n",
    "# print(y_pred[0:5])\n",
    "new_pred = np.argmax(y_pred,axis=1)\n",
    "print(new_pred[0:5])\n",
    "\n",
    "ConfusionMatrixDisplay.from_predictions( y_test, new_pred,display_labels=[\"class 0\", \"class 1\", \"class 2\",\"class 3\",\"4\",\"5\",\"6\"], )\n",
    "plt.show()"
   ]
  },
  {
   "cell_type": "code",
   "execution_count": 173,
   "metadata": {
    "id": "4zTYz_nS5DKv"
   },
   "outputs": [],
   "source": [
    "#compile\n",
    "model.compile(loss='sparse_categorical_crossentropy', optimizer=Adam(), metrics=['accuracy'])"
   ]
  },
  {
   "cell_type": "code",
   "execution_count": 174,
   "metadata": {
    "id": "br8l8yJA5DKv"
   },
   "outputs": [],
   "source": [
    "# prepare callbacks\n",
    "from keras.callbacks import ModelCheckpoint\n",
    "\n",
    "callbacks= [ModelCheckpoint('model.h5', save_weights_only=False, save_best_only=True, verbose=1)]"
   ]
  },
  {
   "cell_type": "code",
   "execution_count": 175,
   "metadata": {},
   "outputs": [
    {
     "data": {
      "text/plain": [
       "(17638, 100, 9)"
      ]
     },
     "execution_count": 175,
     "metadata": {},
     "output_type": "execute_result"
    }
   ],
   "source": [
    "X_train.shape"
   ]
  },
  {
   "cell_type": "markdown",
   "metadata": {
    "id": "RTAXFD5E5DKv"
   },
   "source": [
    "## Start training"
   ]
  },
  {
   "cell_type": "code",
   "execution_count": 176,
   "metadata": {
    "colab": {
     "base_uri": "https://localhost:8080/"
    },
    "id": "71Z_1I-k5DKw",
    "outputId": "166366c1-f79e-4dcb-c8f7-07ed890c84f6",
    "scrolled": true
   },
   "outputs": [
    {
     "name": "stdout",
     "output_type": "stream",
     "text": [
      "Epoch 1/10\n",
      "552/552 [==============================] - 9s 14ms/step - loss: 0.1353 - accuracy: 0.9605 - val_loss: 0.0452 - val_accuracy: 0.9862\n",
      "Epoch 2/10\n",
      "552/552 [==============================] - 7s 13ms/step - loss: 0.0306 - accuracy: 0.9910 - val_loss: 0.0349 - val_accuracy: 0.9906\n",
      "Epoch 3/10\n",
      "552/552 [==============================] - 7s 12ms/step - loss: 0.0171 - accuracy: 0.9948 - val_loss: 0.0333 - val_accuracy: 0.9926\n",
      "Epoch 4/10\n",
      "552/552 [==============================] - 7s 12ms/step - loss: 0.0123 - accuracy: 0.9960 - val_loss: 0.0377 - val_accuracy: 0.9909\n",
      "Epoch 5/10\n",
      "552/552 [==============================] - 7s 12ms/step - loss: 0.0103 - accuracy: 0.9967 - val_loss: 0.0283 - val_accuracy: 0.9929\n",
      "Epoch 6/10\n",
      "552/552 [==============================] - 7s 12ms/step - loss: 0.0038 - accuracy: 0.9993 - val_loss: 0.0311 - val_accuracy: 0.9937\n",
      "Epoch 7/10\n",
      "552/552 [==============================] - 7s 12ms/step - loss: 0.0021 - accuracy: 0.9996 - val_loss: 0.0330 - val_accuracy: 0.9933\n",
      "Epoch 8/10\n",
      "552/552 [==============================] - 7s 12ms/step - loss: 0.0099 - accuracy: 0.9967 - val_loss: 0.0613 - val_accuracy: 0.9866\n",
      "Epoch 9/10\n",
      "552/552 [==============================] - 7s 13ms/step - loss: 0.0076 - accuracy: 0.9983 - val_loss: 0.0419 - val_accuracy: 0.9927\n",
      "Epoch 10/10\n",
      "552/552 [==============================] - 7s 13ms/step - loss: 0.0026 - accuracy: 0.9994 - val_loss: 0.0341 - val_accuracy: 0.9933\n"
     ]
    }
   ],
   "source": [
    "# All features\n",
    "\n",
    "epochNumber = 10\n",
    "history = model.fit(X_train, \n",
    "                    y_train, \n",
    "                    epochs = epochNumber, \n",
    "                    validation_data= (X_test, y_test), \n",
    "                    verbose=1,\n",
    "                    # shuffle=True,\n",
    "                    )"
   ]
  },
  {
   "cell_type": "markdown",
   "metadata": {
    "id": "x_SRv9C85DKw"
   },
   "source": [
    "# Exporting the model"
   ]
  },
  {
   "cell_type": "code",
   "execution_count": 94,
   "metadata": {},
   "outputs": [
    {
     "data": {
      "text/html": [
       "<div>\n",
       "<style scoped>\n",
       "    .dataframe tbody tr th:only-of-type {\n",
       "        vertical-align: middle;\n",
       "    }\n",
       "\n",
       "    .dataframe tbody tr th {\n",
       "        vertical-align: top;\n",
       "    }\n",
       "\n",
       "    .dataframe thead th {\n",
       "        text-align: right;\n",
       "    }\n",
       "</style>\n",
       "<table border=\"1\" class=\"dataframe\">\n",
       "  <thead>\n",
       "    <tr style=\"text-align: right;\">\n",
       "      <th></th>\n",
       "      <th>Ax</th>\n",
       "      <th>Ay</th>\n",
       "      <th>Az</th>\n",
       "      <th>Lx</th>\n",
       "      <th>Ly</th>\n",
       "      <th>Lz</th>\n",
       "      <th>Gx</th>\n",
       "      <th>Gy</th>\n",
       "      <th>Gz</th>\n",
       "      <th>Activity</th>\n",
       "    </tr>\n",
       "  </thead>\n",
       "  <tbody>\n",
       "    <tr>\n",
       "      <th>0</th>\n",
       "      <td>1.56630</td>\n",
       "      <td>-7.4640</td>\n",
       "      <td>2.50610</td>\n",
       "      <td>-0.72489</td>\n",
       "      <td>2.01760</td>\n",
       "      <td>1.4955</td>\n",
       "      <td>1.56560</td>\n",
       "      <td>-1.53020</td>\n",
       "      <td>-0.090713</td>\n",
       "      <td>walking</td>\n",
       "    </tr>\n",
       "    <tr>\n",
       "      <th>1</th>\n",
       "      <td>2.23370</td>\n",
       "      <td>-8.0769</td>\n",
       "      <td>3.41870</td>\n",
       "      <td>-0.07754</td>\n",
       "      <td>1.36890</td>\n",
       "      <td>2.1517</td>\n",
       "      <td>1.13380</td>\n",
       "      <td>-0.37080</td>\n",
       "      <td>-0.376900</td>\n",
       "      <td>walking</td>\n",
       "    </tr>\n",
       "    <tr>\n",
       "      <th>2</th>\n",
       "      <td>0.19068</td>\n",
       "      <td>-10.3510</td>\n",
       "      <td>0.10896</td>\n",
       "      <td>-1.75790</td>\n",
       "      <td>-0.81255</td>\n",
       "      <td>-1.0668</td>\n",
       "      <td>1.18360</td>\n",
       "      <td>-0.66279</td>\n",
       "      <td>-0.554670</td>\n",
       "      <td>walking</td>\n",
       "    </tr>\n",
       "    <tr>\n",
       "      <th>3</th>\n",
       "      <td>-0.68102</td>\n",
       "      <td>-10.2290</td>\n",
       "      <td>-1.32120</td>\n",
       "      <td>-2.36530</td>\n",
       "      <td>-0.61226</td>\n",
       "      <td>-2.2454</td>\n",
       "      <td>1.20000</td>\n",
       "      <td>-1.45690</td>\n",
       "      <td>-0.396450</td>\n",
       "      <td>walking</td>\n",
       "    </tr>\n",
       "    <tr>\n",
       "      <th>4</th>\n",
       "      <td>-0.14982</td>\n",
       "      <td>-9.8884</td>\n",
       "      <td>-1.60720</td>\n",
       "      <td>-1.65250</td>\n",
       "      <td>-0.22073</td>\n",
       "      <td>-2.2773</td>\n",
       "      <td>0.93432</td>\n",
       "      <td>-0.97708</td>\n",
       "      <td>-0.450510</td>\n",
       "      <td>walking</td>\n",
       "    </tr>\n",
       "  </tbody>\n",
       "</table>\n",
       "</div>"
      ],
      "text/plain": [
       "        Ax       Ay       Az       Lx       Ly      Lz       Gx       Gy  \\\n",
       "0  1.56630  -7.4640  2.50610 -0.72489  2.01760  1.4955  1.56560 -1.53020   \n",
       "1  2.23370  -8.0769  3.41870 -0.07754  1.36890  2.1517  1.13380 -0.37080   \n",
       "2  0.19068 -10.3510  0.10896 -1.75790 -0.81255 -1.0668  1.18360 -0.66279   \n",
       "3 -0.68102 -10.2290 -1.32120 -2.36530 -0.61226 -2.2454  1.20000 -1.45690   \n",
       "4 -0.14982  -9.8884 -1.60720 -1.65250 -0.22073 -2.2773  0.93432 -0.97708   \n",
       "\n",
       "         Gz Activity  \n",
       "0 -0.090713  walking  \n",
       "1 -0.376900  walking  \n",
       "2 -0.554670  walking  \n",
       "3 -0.396450  walking  \n",
       "4 -0.450510  walking  "
      ]
     },
     "execution_count": 94,
     "metadata": {},
     "output_type": "execute_result"
    }
   ],
   "source": [
    "full_data.head()"
   ]
  },
  {
   "cell_type": "code",
   "execution_count": 95,
   "metadata": {},
   "outputs": [
    {
     "data": {
      "text/html": [
       "<div>\n",
       "<style scoped>\n",
       "    .dataframe tbody tr th:only-of-type {\n",
       "        vertical-align: middle;\n",
       "    }\n",
       "\n",
       "    .dataframe tbody tr th {\n",
       "        vertical-align: top;\n",
       "    }\n",
       "\n",
       "    .dataframe thead th {\n",
       "        text-align: right;\n",
       "    }\n",
       "</style>\n",
       "<table border=\"1\" class=\"dataframe\">\n",
       "  <thead>\n",
       "    <tr style=\"text-align: right;\">\n",
       "      <th></th>\n",
       "      <th>Ax</th>\n",
       "      <th>Ay</th>\n",
       "      <th>Az</th>\n",
       "      <th>Lx</th>\n",
       "      <th>Ly</th>\n",
       "      <th>Lz</th>\n",
       "      <th>Gx</th>\n",
       "      <th>Gy</th>\n",
       "      <th>Gz</th>\n",
       "      <th>Activity</th>\n",
       "    </tr>\n",
       "  </thead>\n",
       "  <tbody>\n",
       "    <tr>\n",
       "      <th>0</th>\n",
       "      <td>1.56630</td>\n",
       "      <td>-7.4640</td>\n",
       "      <td>2.50610</td>\n",
       "      <td>-0.72489</td>\n",
       "      <td>2.01760</td>\n",
       "      <td>1.4955</td>\n",
       "      <td>1.56560</td>\n",
       "      <td>-1.53020</td>\n",
       "      <td>-0.090713</td>\n",
       "      <td>walking</td>\n",
       "    </tr>\n",
       "    <tr>\n",
       "      <th>1</th>\n",
       "      <td>2.23370</td>\n",
       "      <td>-8.0769</td>\n",
       "      <td>3.41870</td>\n",
       "      <td>-0.07754</td>\n",
       "      <td>1.36890</td>\n",
       "      <td>2.1517</td>\n",
       "      <td>1.13380</td>\n",
       "      <td>-0.37080</td>\n",
       "      <td>-0.376900</td>\n",
       "      <td>walking</td>\n",
       "    </tr>\n",
       "    <tr>\n",
       "      <th>2</th>\n",
       "      <td>0.19068</td>\n",
       "      <td>-10.3510</td>\n",
       "      <td>0.10896</td>\n",
       "      <td>-1.75790</td>\n",
       "      <td>-0.81255</td>\n",
       "      <td>-1.0668</td>\n",
       "      <td>1.18360</td>\n",
       "      <td>-0.66279</td>\n",
       "      <td>-0.554670</td>\n",
       "      <td>walking</td>\n",
       "    </tr>\n",
       "    <tr>\n",
       "      <th>3</th>\n",
       "      <td>-0.68102</td>\n",
       "      <td>-10.2290</td>\n",
       "      <td>-1.32120</td>\n",
       "      <td>-2.36530</td>\n",
       "      <td>-0.61226</td>\n",
       "      <td>-2.2454</td>\n",
       "      <td>1.20000</td>\n",
       "      <td>-1.45690</td>\n",
       "      <td>-0.396450</td>\n",
       "      <td>walking</td>\n",
       "    </tr>\n",
       "    <tr>\n",
       "      <th>4</th>\n",
       "      <td>-0.14982</td>\n",
       "      <td>-9.8884</td>\n",
       "      <td>-1.60720</td>\n",
       "      <td>-1.65250</td>\n",
       "      <td>-0.22073</td>\n",
       "      <td>-2.2773</td>\n",
       "      <td>0.93432</td>\n",
       "      <td>-0.97708</td>\n",
       "      <td>-0.450510</td>\n",
       "      <td>walking</td>\n",
       "    </tr>\n",
       "    <tr>\n",
       "      <th>...</th>\n",
       "      <td>...</td>\n",
       "      <td>...</td>\n",
       "      <td>...</td>\n",
       "      <td>...</td>\n",
       "      <td>...</td>\n",
       "      <td>...</td>\n",
       "      <td>...</td>\n",
       "      <td>...</td>\n",
       "      <td>...</td>\n",
       "      <td>...</td>\n",
       "    </tr>\n",
       "    <tr>\n",
       "      <th>145</th>\n",
       "      <td>5.82950</td>\n",
       "      <td>-3.2008</td>\n",
       "      <td>0.32689</td>\n",
       "      <td>0.85714</td>\n",
       "      <td>5.01500</td>\n",
       "      <td>-1.6598</td>\n",
       "      <td>2.22290</td>\n",
       "      <td>0.42669</td>\n",
       "      <td>-0.160050</td>\n",
       "      <td>walking</td>\n",
       "    </tr>\n",
       "    <tr>\n",
       "      <th>146</th>\n",
       "      <td>5.06680</td>\n",
       "      <td>-8.6625</td>\n",
       "      <td>-4.01800</td>\n",
       "      <td>-0.22936</td>\n",
       "      <td>-0.45554</td>\n",
       "      <td>-4.8935</td>\n",
       "      <td>3.05400</td>\n",
       "      <td>-0.32895</td>\n",
       "      <td>-0.624000</td>\n",
       "      <td>walking</td>\n",
       "    </tr>\n",
       "    <tr>\n",
       "      <th>147</th>\n",
       "      <td>1.15770</td>\n",
       "      <td>-14.3290</td>\n",
       "      <td>-8.44460</td>\n",
       "      <td>-3.42400</td>\n",
       "      <td>-5.66400</td>\n",
       "      <td>-8.1241</td>\n",
       "      <td>3.23760</td>\n",
       "      <td>-0.82833</td>\n",
       "      <td>-0.840550</td>\n",
       "      <td>walking</td>\n",
       "    </tr>\n",
       "    <tr>\n",
       "      <th>148</th>\n",
       "      <td>-0.80360</td>\n",
       "      <td>-18.9320</td>\n",
       "      <td>-16.34400</td>\n",
       "      <td>-5.51210</td>\n",
       "      <td>-10.33100</td>\n",
       "      <td>-16.4510</td>\n",
       "      <td>1.98530</td>\n",
       "      <td>-0.39340</td>\n",
       "      <td>-0.465780</td>\n",
       "      <td>walking</td>\n",
       "    </tr>\n",
       "    <tr>\n",
       "      <th>149</th>\n",
       "      <td>-2.15200</td>\n",
       "      <td>-16.9440</td>\n",
       "      <td>-10.10600</td>\n",
       "      <td>-4.00560</td>\n",
       "      <td>-7.98960</td>\n",
       "      <td>-6.5625</td>\n",
       "      <td>-1.98200</td>\n",
       "      <td>2.06750</td>\n",
       "      <td>0.424550</td>\n",
       "      <td>walking</td>\n",
       "    </tr>\n",
       "  </tbody>\n",
       "</table>\n",
       "<p>150 rows × 10 columns</p>\n",
       "</div>"
      ],
      "text/plain": [
       "          Ax       Ay        Az       Lx        Ly       Lz       Gx       Gy  \\\n",
       "0    1.56630  -7.4640   2.50610 -0.72489   2.01760   1.4955  1.56560 -1.53020   \n",
       "1    2.23370  -8.0769   3.41870 -0.07754   1.36890   2.1517  1.13380 -0.37080   \n",
       "2    0.19068 -10.3510   0.10896 -1.75790  -0.81255  -1.0668  1.18360 -0.66279   \n",
       "3   -0.68102 -10.2290  -1.32120 -2.36530  -0.61226  -2.2454  1.20000 -1.45690   \n",
       "4   -0.14982  -9.8884  -1.60720 -1.65250  -0.22073  -2.2773  0.93432 -0.97708   \n",
       "..       ...      ...       ...      ...       ...      ...      ...      ...   \n",
       "145  5.82950  -3.2008   0.32689  0.85714   5.01500  -1.6598  2.22290  0.42669   \n",
       "146  5.06680  -8.6625  -4.01800 -0.22936  -0.45554  -4.8935  3.05400 -0.32895   \n",
       "147  1.15770 -14.3290  -8.44460 -3.42400  -5.66400  -8.1241  3.23760 -0.82833   \n",
       "148 -0.80360 -18.9320 -16.34400 -5.51210 -10.33100 -16.4510  1.98530 -0.39340   \n",
       "149 -2.15200 -16.9440 -10.10600 -4.00560  -7.98960  -6.5625 -1.98200  2.06750   \n",
       "\n",
       "           Gz Activity  \n",
       "0   -0.090713  walking  \n",
       "1   -0.376900  walking  \n",
       "2   -0.554670  walking  \n",
       "3   -0.396450  walking  \n",
       "4   -0.450510  walking  \n",
       "..        ...      ...  \n",
       "145 -0.160050  walking  \n",
       "146 -0.624000  walking  \n",
       "147 -0.840550  walking  \n",
       "148 -0.465780  walking  \n",
       "149  0.424550  walking  \n",
       "\n",
       "[150 rows x 10 columns]"
      ]
     },
     "execution_count": 95,
     "metadata": {},
     "output_type": "execute_result"
    }
   ],
   "source": [
    "full_data[full_data['Activity'] == 'walking'].head(150)"
   ]
  },
  {
   "cell_type": "code",
   "execution_count": 97,
   "metadata": {},
   "outputs": [
    {
     "data": {
      "text/plain": [
       "array(['walking', 'standing', 'jogging', 'sitting', 'biking', 'upstairs',\n",
       "       'downstairs'], dtype=object)"
      ]
     },
     "execution_count": 97,
     "metadata": {},
     "output_type": "execute_result"
    }
   ],
   "source": [
    "full_data['Activity'].unique()"
   ]
  },
  {
   "cell_type": "code",
   "execution_count": 106,
   "metadata": {},
   "outputs": [
    {
     "data": {
      "text/plain": [
       "array(['biking', 'downstairs', 'jogging', 'sitting', 'standing',\n",
       "       'upstairs', 'walking'], dtype=object)"
      ]
     },
     "execution_count": 106,
     "metadata": {},
     "output_type": "execute_result"
    }
   ],
   "source": [
    "encoder.classes_"
   ]
  },
  {
   "cell_type": "code",
   "execution_count": 237,
   "metadata": {},
   "outputs": [
    {
     "data": {
      "text/html": [
       "<div>\n",
       "<style scoped>\n",
       "    .dataframe tbody tr th:only-of-type {\n",
       "        vertical-align: middle;\n",
       "    }\n",
       "\n",
       "    .dataframe tbody tr th {\n",
       "        vertical-align: top;\n",
       "    }\n",
       "\n",
       "    .dataframe thead th {\n",
       "        text-align: right;\n",
       "    }\n",
       "</style>\n",
       "<table border=\"1\" class=\"dataframe\">\n",
       "  <thead>\n",
       "    <tr style=\"text-align: right;\">\n",
       "      <th></th>\n",
       "      <th>Ax</th>\n",
       "      <th>Ay</th>\n",
       "      <th>Az</th>\n",
       "      <th>Lx</th>\n",
       "      <th>Ly</th>\n",
       "      <th>Lz</th>\n",
       "      <th>Gx</th>\n",
       "      <th>Gy</th>\n",
       "      <th>Gz</th>\n",
       "      <th>Activity</th>\n",
       "    </tr>\n",
       "  </thead>\n",
       "  <tbody>\n",
       "    <tr>\n",
       "      <th>0</th>\n",
       "      <td>1.56630</td>\n",
       "      <td>-7.4640</td>\n",
       "      <td>2.50610</td>\n",
       "      <td>-0.72489</td>\n",
       "      <td>2.01760</td>\n",
       "      <td>1.4955</td>\n",
       "      <td>1.56560</td>\n",
       "      <td>-1.53020</td>\n",
       "      <td>-0.090713</td>\n",
       "      <td>walking</td>\n",
       "    </tr>\n",
       "    <tr>\n",
       "      <th>1</th>\n",
       "      <td>2.23370</td>\n",
       "      <td>-8.0769</td>\n",
       "      <td>3.41870</td>\n",
       "      <td>-0.07754</td>\n",
       "      <td>1.36890</td>\n",
       "      <td>2.1517</td>\n",
       "      <td>1.13380</td>\n",
       "      <td>-0.37080</td>\n",
       "      <td>-0.376900</td>\n",
       "      <td>walking</td>\n",
       "    </tr>\n",
       "    <tr>\n",
       "      <th>2</th>\n",
       "      <td>0.19068</td>\n",
       "      <td>-10.3510</td>\n",
       "      <td>0.10896</td>\n",
       "      <td>-1.75790</td>\n",
       "      <td>-0.81255</td>\n",
       "      <td>-1.0668</td>\n",
       "      <td>1.18360</td>\n",
       "      <td>-0.66279</td>\n",
       "      <td>-0.554670</td>\n",
       "      <td>walking</td>\n",
       "    </tr>\n",
       "    <tr>\n",
       "      <th>3</th>\n",
       "      <td>-0.68102</td>\n",
       "      <td>-10.2290</td>\n",
       "      <td>-1.32120</td>\n",
       "      <td>-2.36530</td>\n",
       "      <td>-0.61226</td>\n",
       "      <td>-2.2454</td>\n",
       "      <td>1.20000</td>\n",
       "      <td>-1.45690</td>\n",
       "      <td>-0.396450</td>\n",
       "      <td>walking</td>\n",
       "    </tr>\n",
       "    <tr>\n",
       "      <th>4</th>\n",
       "      <td>-0.14982</td>\n",
       "      <td>-9.8884</td>\n",
       "      <td>-1.60720</td>\n",
       "      <td>-1.65250</td>\n",
       "      <td>-0.22073</td>\n",
       "      <td>-2.2773</td>\n",
       "      <td>0.93432</td>\n",
       "      <td>-0.97708</td>\n",
       "      <td>-0.450510</td>\n",
       "      <td>walking</td>\n",
       "    </tr>\n",
       "    <tr>\n",
       "      <th>...</th>\n",
       "      <td>...</td>\n",
       "      <td>...</td>\n",
       "      <td>...</td>\n",
       "      <td>...</td>\n",
       "      <td>...</td>\n",
       "      <td>...</td>\n",
       "      <td>...</td>\n",
       "      <td>...</td>\n",
       "      <td>...</td>\n",
       "      <td>...</td>\n",
       "    </tr>\n",
       "    <tr>\n",
       "      <th>145</th>\n",
       "      <td>5.82950</td>\n",
       "      <td>-3.2008</td>\n",
       "      <td>0.32689</td>\n",
       "      <td>0.85714</td>\n",
       "      <td>5.01500</td>\n",
       "      <td>-1.6598</td>\n",
       "      <td>2.22290</td>\n",
       "      <td>0.42669</td>\n",
       "      <td>-0.160050</td>\n",
       "      <td>walking</td>\n",
       "    </tr>\n",
       "    <tr>\n",
       "      <th>146</th>\n",
       "      <td>5.06680</td>\n",
       "      <td>-8.6625</td>\n",
       "      <td>-4.01800</td>\n",
       "      <td>-0.22936</td>\n",
       "      <td>-0.45554</td>\n",
       "      <td>-4.8935</td>\n",
       "      <td>3.05400</td>\n",
       "      <td>-0.32895</td>\n",
       "      <td>-0.624000</td>\n",
       "      <td>walking</td>\n",
       "    </tr>\n",
       "    <tr>\n",
       "      <th>147</th>\n",
       "      <td>1.15770</td>\n",
       "      <td>-14.3290</td>\n",
       "      <td>-8.44460</td>\n",
       "      <td>-3.42400</td>\n",
       "      <td>-5.66400</td>\n",
       "      <td>-8.1241</td>\n",
       "      <td>3.23760</td>\n",
       "      <td>-0.82833</td>\n",
       "      <td>-0.840550</td>\n",
       "      <td>walking</td>\n",
       "    </tr>\n",
       "    <tr>\n",
       "      <th>148</th>\n",
       "      <td>-0.80360</td>\n",
       "      <td>-18.9320</td>\n",
       "      <td>-16.34400</td>\n",
       "      <td>-5.51210</td>\n",
       "      <td>-10.33100</td>\n",
       "      <td>-16.4510</td>\n",
       "      <td>1.98530</td>\n",
       "      <td>-0.39340</td>\n",
       "      <td>-0.465780</td>\n",
       "      <td>walking</td>\n",
       "    </tr>\n",
       "    <tr>\n",
       "      <th>149</th>\n",
       "      <td>-2.15200</td>\n",
       "      <td>-16.9440</td>\n",
       "      <td>-10.10600</td>\n",
       "      <td>-4.00560</td>\n",
       "      <td>-7.98960</td>\n",
       "      <td>-6.5625</td>\n",
       "      <td>-1.98200</td>\n",
       "      <td>2.06750</td>\n",
       "      <td>0.424550</td>\n",
       "      <td>walking</td>\n",
       "    </tr>\n",
       "  </tbody>\n",
       "</table>\n",
       "<p>150 rows × 10 columns</p>\n",
       "</div>"
      ],
      "text/plain": [
       "          Ax       Ay        Az       Lx        Ly       Lz       Gx       Gy  \\\n",
       "0    1.56630  -7.4640   2.50610 -0.72489   2.01760   1.4955  1.56560 -1.53020   \n",
       "1    2.23370  -8.0769   3.41870 -0.07754   1.36890   2.1517  1.13380 -0.37080   \n",
       "2    0.19068 -10.3510   0.10896 -1.75790  -0.81255  -1.0668  1.18360 -0.66279   \n",
       "3   -0.68102 -10.2290  -1.32120 -2.36530  -0.61226  -2.2454  1.20000 -1.45690   \n",
       "4   -0.14982  -9.8884  -1.60720 -1.65250  -0.22073  -2.2773  0.93432 -0.97708   \n",
       "..       ...      ...       ...      ...       ...      ...      ...      ...   \n",
       "145  5.82950  -3.2008   0.32689  0.85714   5.01500  -1.6598  2.22290  0.42669   \n",
       "146  5.06680  -8.6625  -4.01800 -0.22936  -0.45554  -4.8935  3.05400 -0.32895   \n",
       "147  1.15770 -14.3290  -8.44460 -3.42400  -5.66400  -8.1241  3.23760 -0.82833   \n",
       "148 -0.80360 -18.9320 -16.34400 -5.51210 -10.33100 -16.4510  1.98530 -0.39340   \n",
       "149 -2.15200 -16.9440 -10.10600 -4.00560  -7.98960  -6.5625 -1.98200  2.06750   \n",
       "\n",
       "           Gz Activity  \n",
       "0   -0.090713  walking  \n",
       "1   -0.376900  walking  \n",
       "2   -0.554670  walking  \n",
       "3   -0.396450  walking  \n",
       "4   -0.450510  walking  \n",
       "..        ...      ...  \n",
       "145 -0.160050  walking  \n",
       "146 -0.624000  walking  \n",
       "147 -0.840550  walking  \n",
       "148 -0.465780  walking  \n",
       "149  0.424550  walking  \n",
       "\n",
       "[150 rows x 10 columns]"
      ]
     },
     "execution_count": 237,
     "metadata": {},
     "output_type": "execute_result"
    }
   ],
   "source": [
    "full_data[full_data['Activity'] == 'walking'].head(150)"
   ]
  },
  {
   "cell_type": "code",
   "execution_count": 148,
   "metadata": {},
   "outputs": [
    {
     "data": {
      "text/html": [
       "<div>\n",
       "<style scoped>\n",
       "    .dataframe tbody tr th:only-of-type {\n",
       "        vertical-align: middle;\n",
       "    }\n",
       "\n",
       "    .dataframe tbody tr th {\n",
       "        vertical-align: top;\n",
       "    }\n",
       "\n",
       "    .dataframe thead th {\n",
       "        text-align: right;\n",
       "    }\n",
       "</style>\n",
       "<table border=\"1\" class=\"dataframe\">\n",
       "  <thead>\n",
       "    <tr style=\"text-align: right;\">\n",
       "      <th></th>\n",
       "      <th>Ax</th>\n",
       "      <th>Ay</th>\n",
       "      <th>Az</th>\n",
       "      <th>Lx</th>\n",
       "      <th>Ly</th>\n",
       "      <th>Lz</th>\n",
       "      <th>Gx</th>\n",
       "      <th>Gy</th>\n",
       "      <th>Gz</th>\n",
       "      <th>Label</th>\n",
       "    </tr>\n",
       "  </thead>\n",
       "  <tbody>\n",
       "    <tr>\n",
       "      <th>20000</th>\n",
       "      <td>0.312536</td>\n",
       "      <td>2.001052</td>\n",
       "      <td>0.512077</td>\n",
       "      <td>-1.628563</td>\n",
       "      <td>2.458472</td>\n",
       "      <td>-1.468715</td>\n",
       "      <td>2.090165</td>\n",
       "      <td>-1.021030</td>\n",
       "      <td>-1.028797</td>\n",
       "      <td>2</td>\n",
       "    </tr>\n",
       "    <tr>\n",
       "      <th>20001</th>\n",
       "      <td>-0.395823</td>\n",
       "      <td>0.859192</td>\n",
       "      <td>0.001001</td>\n",
       "      <td>-2.552256</td>\n",
       "      <td>1.047762</td>\n",
       "      <td>-2.023476</td>\n",
       "      <td>1.520448</td>\n",
       "      <td>-0.722460</td>\n",
       "      <td>-0.998804</td>\n",
       "      <td>2</td>\n",
       "    </tr>\n",
       "    <tr>\n",
       "      <th>20002</th>\n",
       "      <td>-3.188474</td>\n",
       "      <td>-1.509975</td>\n",
       "      <td>-2.947652</td>\n",
       "      <td>-5.984517</td>\n",
       "      <td>-1.751687</td>\n",
       "      <td>-5.712171</td>\n",
       "      <td>0.380632</td>\n",
       "      <td>0.943098</td>\n",
       "      <td>-0.103885</td>\n",
       "      <td>2</td>\n",
       "    </tr>\n",
       "    <tr>\n",
       "      <th>20003</th>\n",
       "      <td>-2.214444</td>\n",
       "      <td>-1.656326</td>\n",
       "      <td>-3.334933</td>\n",
       "      <td>-4.568079</td>\n",
       "      <td>-1.939310</td>\n",
       "      <td>-6.323208</td>\n",
       "      <td>-1.776467</td>\n",
       "      <td>1.392493</td>\n",
       "      <td>1.180665</td>\n",
       "      <td>2</td>\n",
       "    </tr>\n",
       "    <tr>\n",
       "      <th>20004</th>\n",
       "      <td>-0.767037</td>\n",
       "      <td>-0.294850</td>\n",
       "      <td>-0.379980</td>\n",
       "      <td>-0.701402</td>\n",
       "      <td>0.005609</td>\n",
       "      <td>-0.225464</td>\n",
       "      <td>-2.116848</td>\n",
       "      <td>-2.895411</td>\n",
       "      <td>1.238087</td>\n",
       "      <td>2</td>\n",
       "    </tr>\n",
       "    <tr>\n",
       "      <th>...</th>\n",
       "      <td>...</td>\n",
       "      <td>...</td>\n",
       "      <td>...</td>\n",
       "      <td>...</td>\n",
       "      <td>...</td>\n",
       "      <td>...</td>\n",
       "      <td>...</td>\n",
       "      <td>...</td>\n",
       "      <td>...</td>\n",
       "      <td>...</td>\n",
       "    </tr>\n",
       "    <tr>\n",
       "      <th>20145</th>\n",
       "      <td>-0.365173</td>\n",
       "      <td>-2.012441</td>\n",
       "      <td>1.828474</td>\n",
       "      <td>-1.209259</td>\n",
       "      <td>-2.188847</td>\n",
       "      <td>1.787294</td>\n",
       "      <td>-0.030353</td>\n",
       "      <td>-2.944403</td>\n",
       "      <td>1.672155</td>\n",
       "      <td>2</td>\n",
       "    </tr>\n",
       "    <tr>\n",
       "      <th>20146</th>\n",
       "      <td>-1.049707</td>\n",
       "      <td>-1.395152</td>\n",
       "      <td>1.930696</td>\n",
       "      <td>-1.932344</td>\n",
       "      <td>-1.320262</td>\n",
       "      <td>1.725058</td>\n",
       "      <td>-1.087274</td>\n",
       "      <td>2.625995</td>\n",
       "      <td>2.272826</td>\n",
       "      <td>2</td>\n",
       "    </tr>\n",
       "    <tr>\n",
       "      <th>20147</th>\n",
       "      <td>0.220596</td>\n",
       "      <td>0.163836</td>\n",
       "      <td>1.596174</td>\n",
       "      <td>-0.018835</td>\n",
       "      <td>0.784059</td>\n",
       "      <td>1.088748</td>\n",
       "      <td>-1.592642</td>\n",
       "      <td>2.760174</td>\n",
       "      <td>1.284763</td>\n",
       "      <td>2</td>\n",
       "    </tr>\n",
       "    <tr>\n",
       "      <th>20148</th>\n",
       "      <td>1.276340</td>\n",
       "      <td>1.769255</td>\n",
       "      <td>1.438192</td>\n",
       "      <td>1.202295</td>\n",
       "      <td>2.889946</td>\n",
       "      <td>0.676373</td>\n",
       "      <td>-0.710273</td>\n",
       "      <td>2.128563</td>\n",
       "      <td>0.214773</td>\n",
       "      <td>2</td>\n",
       "    </tr>\n",
       "    <tr>\n",
       "      <th>20149</th>\n",
       "      <td>1.320622</td>\n",
       "      <td>2.408489</td>\n",
       "      <td>1.351480</td>\n",
       "      <td>1.045397</td>\n",
       "      <td>3.694111</td>\n",
       "      <td>0.439018</td>\n",
       "      <td>-0.180226</td>\n",
       "      <td>1.756703</td>\n",
       "      <td>-0.522404</td>\n",
       "      <td>2</td>\n",
       "    </tr>\n",
       "  </tbody>\n",
       "</table>\n",
       "<p>150 rows × 10 columns</p>\n",
       "</div>"
      ],
      "text/plain": [
       "             Ax        Ay        Az        Lx        Ly        Lz        Gx  \\\n",
       "20000  0.312536  2.001052  0.512077 -1.628563  2.458472 -1.468715  2.090165   \n",
       "20001 -0.395823  0.859192  0.001001 -2.552256  1.047762 -2.023476  1.520448   \n",
       "20002 -3.188474 -1.509975 -2.947652 -5.984517 -1.751687 -5.712171  0.380632   \n",
       "20003 -2.214444 -1.656326 -3.334933 -4.568079 -1.939310 -6.323208 -1.776467   \n",
       "20004 -0.767037 -0.294850 -0.379980 -0.701402  0.005609 -0.225464 -2.116848   \n",
       "...         ...       ...       ...       ...       ...       ...       ...   \n",
       "20145 -0.365173 -2.012441  1.828474 -1.209259 -2.188847  1.787294 -0.030353   \n",
       "20146 -1.049707 -1.395152  1.930696 -1.932344 -1.320262  1.725058 -1.087274   \n",
       "20147  0.220596  0.163836  1.596174 -0.018835  0.784059  1.088748 -1.592642   \n",
       "20148  1.276340  1.769255  1.438192  1.202295  2.889946  0.676373 -0.710273   \n",
       "20149  1.320622  2.408489  1.351480  1.045397  3.694111  0.439018 -0.180226   \n",
       "\n",
       "             Gy        Gz  Label  \n",
       "20000 -1.021030 -1.028797      2  \n",
       "20001 -0.722460 -0.998804      2  \n",
       "20002  0.943098 -0.103885      2  \n",
       "20003  1.392493  1.180665      2  \n",
       "20004 -2.895411  1.238087      2  \n",
       "...         ...       ...    ...  \n",
       "20145 -2.944403  1.672155      2  \n",
       "20146  2.625995  2.272826      2  \n",
       "20147  2.760174  1.284763      2  \n",
       "20148  2.128563  0.214773      2  \n",
       "20149  1.756703 -0.522404      2  \n",
       "\n",
       "[150 rows x 10 columns]"
      ]
     },
     "execution_count": 148,
     "metadata": {},
     "output_type": "execute_result"
    }
   ],
   "source": [
    "scaled.iloc[20000:20150]"
   ]
  },
  {
   "cell_type": "code",
   "execution_count": 159,
   "metadata": {},
   "outputs": [
    {
     "data": {
      "text/html": [
       "<div>\n",
       "<style scoped>\n",
       "    .dataframe tbody tr th:only-of-type {\n",
       "        vertical-align: middle;\n",
       "    }\n",
       "\n",
       "    .dataframe tbody tr th {\n",
       "        vertical-align: top;\n",
       "    }\n",
       "\n",
       "    .dataframe thead th {\n",
       "        text-align: right;\n",
       "    }\n",
       "</style>\n",
       "<table border=\"1\" class=\"dataframe\">\n",
       "  <thead>\n",
       "    <tr style=\"text-align: right;\">\n",
       "      <th></th>\n",
       "      <th>Ax</th>\n",
       "      <th>Ay</th>\n",
       "      <th>Az</th>\n",
       "      <th>Lx</th>\n",
       "      <th>Ly</th>\n",
       "      <th>Lz</th>\n",
       "      <th>Gx</th>\n",
       "      <th>Gy</th>\n",
       "      <th>Gz</th>\n",
       "      <th>Label</th>\n",
       "    </tr>\n",
       "  </thead>\n",
       "  <tbody>\n",
       "    <tr>\n",
       "      <th>300</th>\n",
       "      <td>-0.412853</td>\n",
       "      <td>-0.673069</td>\n",
       "      <td>0.865183</td>\n",
       "      <td>-0.898294</td>\n",
       "      <td>-0.331244</td>\n",
       "      <td>0.279146</td>\n",
       "      <td>-0.278191</td>\n",
       "      <td>0.094271</td>\n",
       "      <td>2.134068</td>\n",
       "      <td>6</td>\n",
       "    </tr>\n",
       "    <tr>\n",
       "      <th>301</th>\n",
       "      <td>-0.109750</td>\n",
       "      <td>-0.512030</td>\n",
       "      <td>0.902344</td>\n",
       "      <td>-0.429758</td>\n",
       "      <td>-0.110805</td>\n",
       "      <td>0.303591</td>\n",
       "      <td>-0.738660</td>\n",
       "      <td>0.963769</td>\n",
       "      <td>1.907964</td>\n",
       "      <td>6</td>\n",
       "    </tr>\n",
       "    <tr>\n",
       "      <th>302</th>\n",
       "      <td>0.496440</td>\n",
       "      <td>-0.258253</td>\n",
       "      <td>1.196613</td>\n",
       "      <td>0.390693</td>\n",
       "      <td>0.225542</td>\n",
       "      <td>0.670679</td>\n",
       "      <td>-0.859585</td>\n",
       "      <td>1.359684</td>\n",
       "      <td>1.853893</td>\n",
       "      <td>6</td>\n",
       "    </tr>\n",
       "    <tr>\n",
       "      <th>303</th>\n",
       "      <td>0.448782</td>\n",
       "      <td>0.129676</td>\n",
       "      <td>1.382454</td>\n",
       "      <td>0.215560</td>\n",
       "      <td>0.727830</td>\n",
       "      <td>0.781132</td>\n",
       "      <td>-1.278804</td>\n",
       "      <td>2.235082</td>\n",
       "      <td>1.784802</td>\n",
       "      <td>6</td>\n",
       "    </tr>\n",
       "    <tr>\n",
       "      <th>304</th>\n",
       "      <td>0.326163</td>\n",
       "      <td>0.222395</td>\n",
       "      <td>1.205892</td>\n",
       "      <td>0.019314</td>\n",
       "      <td>0.845564</td>\n",
       "      <td>0.463426</td>\n",
       "      <td>-1.190877</td>\n",
       "      <td>2.305408</td>\n",
       "      <td>1.551189</td>\n",
       "      <td>6</td>\n",
       "    </tr>\n",
       "    <tr>\n",
       "      <th>...</th>\n",
       "      <td>...</td>\n",
       "      <td>...</td>\n",
       "      <td>...</td>\n",
       "      <td>...</td>\n",
       "      <td>...</td>\n",
       "      <td>...</td>\n",
       "      <td>...</td>\n",
       "      <td>...</td>\n",
       "      <td>...</td>\n",
       "      <td>...</td>\n",
       "    </tr>\n",
       "    <tr>\n",
       "      <th>445</th>\n",
       "      <td>-0.218732</td>\n",
       "      <td>-0.580279</td>\n",
       "      <td>0.834207</td>\n",
       "      <td>-0.625943</td>\n",
       "      <td>-0.212571</td>\n",
       "      <td>0.018635</td>\n",
       "      <td>0.532513</td>\n",
       "      <td>-0.085251</td>\n",
       "      <td>-0.972682</td>\n",
       "      <td>6</td>\n",
       "    </tr>\n",
       "    <tr>\n",
       "      <th>446</th>\n",
       "      <td>-0.021205</td>\n",
       "      <td>-0.714449</td>\n",
       "      <td>0.605000</td>\n",
       "      <td>-0.303691</td>\n",
       "      <td>-0.387160</td>\n",
       "      <td>-0.285838</td>\n",
       "      <td>0.557258</td>\n",
       "      <td>-0.106599</td>\n",
       "      <td>-0.991745</td>\n",
       "      <td>6</td>\n",
       "    </tr>\n",
       "    <tr>\n",
       "      <th>447</th>\n",
       "      <td>0.046908</td>\n",
       "      <td>-0.763352</td>\n",
       "      <td>0.121802</td>\n",
       "      <td>-0.163261</td>\n",
       "      <td>-0.444618</td>\n",
       "      <td>-0.844658</td>\n",
       "      <td>0.532717</td>\n",
       "      <td>0.112022</td>\n",
       "      <td>-1.097611</td>\n",
       "      <td>6</td>\n",
       "    </tr>\n",
       "    <tr>\n",
       "      <th>448</th>\n",
       "      <td>-0.072289</td>\n",
       "      <td>-0.895014</td>\n",
       "      <td>0.357195</td>\n",
       "      <td>-0.290033</td>\n",
       "      <td>-0.617954</td>\n",
       "      <td>-0.455926</td>\n",
       "      <td>0.432934</td>\n",
       "      <td>0.200776</td>\n",
       "      <td>-1.168873</td>\n",
       "      <td>6</td>\n",
       "    </tr>\n",
       "    <tr>\n",
       "      <th>449</th>\n",
       "      <td>0.111603</td>\n",
       "      <td>-1.036529</td>\n",
       "      <td>0.462518</td>\n",
       "      <td>-0.013982</td>\n",
       "      <td>-0.807070</td>\n",
       "      <td>-0.277953</td>\n",
       "      <td>0.159148</td>\n",
       "      <td>-0.055818</td>\n",
       "      <td>-0.903868</td>\n",
       "      <td>6</td>\n",
       "    </tr>\n",
       "  </tbody>\n",
       "</table>\n",
       "<p>150 rows × 10 columns</p>\n",
       "</div>"
      ],
      "text/plain": [
       "           Ax        Ay        Az        Lx        Ly        Lz        Gx  \\\n",
       "300 -0.412853 -0.673069  0.865183 -0.898294 -0.331244  0.279146 -0.278191   \n",
       "301 -0.109750 -0.512030  0.902344 -0.429758 -0.110805  0.303591 -0.738660   \n",
       "302  0.496440 -0.258253  1.196613  0.390693  0.225542  0.670679 -0.859585   \n",
       "303  0.448782  0.129676  1.382454  0.215560  0.727830  0.781132 -1.278804   \n",
       "304  0.326163  0.222395  1.205892  0.019314  0.845564  0.463426 -1.190877   \n",
       "..        ...       ...       ...       ...       ...       ...       ...   \n",
       "445 -0.218732 -0.580279  0.834207 -0.625943 -0.212571  0.018635  0.532513   \n",
       "446 -0.021205 -0.714449  0.605000 -0.303691 -0.387160 -0.285838  0.557258   \n",
       "447  0.046908 -0.763352  0.121802 -0.163261 -0.444618 -0.844658  0.532717   \n",
       "448 -0.072289 -0.895014  0.357195 -0.290033 -0.617954 -0.455926  0.432934   \n",
       "449  0.111603 -1.036529  0.462518 -0.013982 -0.807070 -0.277953  0.159148   \n",
       "\n",
       "           Gy        Gz  Label  \n",
       "300  0.094271  2.134068      6  \n",
       "301  0.963769  1.907964      6  \n",
       "302  1.359684  1.853893      6  \n",
       "303  2.235082  1.784802      6  \n",
       "304  2.305408  1.551189      6  \n",
       "..        ...       ...    ...  \n",
       "445 -0.085251 -0.972682      6  \n",
       "446 -0.106599 -0.991745      6  \n",
       "447  0.112022 -1.097611      6  \n",
       "448  0.200776 -1.168873      6  \n",
       "449 -0.055818 -0.903868      6  \n",
       "\n",
       "[150 rows x 10 columns]"
      ]
     },
     "execution_count": 159,
     "metadata": {},
     "output_type": "execute_result"
    }
   ],
   "source": [
    "scaled.iloc[300:450]"
   ]
  },
  {
   "cell_type": "code",
   "execution_count": 253,
   "metadata": {},
   "outputs": [],
   "source": [
    "walking = full_data[full_data['Activity'] == 'walking'].head(100)\n",
    "walking = walking[walking.columns[:-1]].values\n",
    "walking = walking.reshape(1,100,9)\n",
    "\n",
    "\n",
    "standing = full_data[full_data['Activity'] == 'standing'].tail(100)\n",
    "standing = standing[standing.columns[:-1]].values\n",
    "standing = standing.reshape(1,100,9)\n",
    "\n",
    "\n",
    "jogging = full_data[full_data['Activity'] == 'jogging'].tail(100)\n",
    "jogging = jogging[jogging.columns[:-1]].values\n",
    "jogging = jogging.reshape(1,100,9)\n",
    "\n",
    "\n",
    "biking = full_data[full_data['Activity'] == 'biking'].tail(100)\n",
    "biking = biking[biking.columns[:-1]].values\n",
    "biking = biking.reshape(1,100,9)"
   ]
  },
  {
   "cell_type": "code",
   "execution_count": 255,
   "metadata": {},
   "outputs": [
    {
     "ename": "AttributeError",
     "evalue": "'numpy.ndarray' object has no attribute 'head'",
     "output_type": "error",
     "traceback": [
      "\u001b[0;31m---------------------------------------------------------------------------\u001b[0m",
      "\u001b[0;31mAttributeError\u001b[0m                            Traceback (most recent call last)",
      "Cell \u001b[0;32mIn [255], line 1\u001b[0m\n\u001b[0;32m----> 1\u001b[0m biking\u001b[39m.\u001b[39;49mhead()\n",
      "\u001b[0;31mAttributeError\u001b[0m: 'numpy.ndarray' object has no attribute 'head'"
     ]
    }
   ],
   "source": []
  },
  {
   "cell_type": "code",
   "execution_count": 203,
   "metadata": {},
   "outputs": [
    {
     "data": {
      "text/plain": [
       "array(['biking', 'downstairs', 'jogging', 'sitting', 'standing',\n",
       "       'upstairs', 'walking'], dtype=object)"
      ]
     },
     "execution_count": 203,
     "metadata": {},
     "output_type": "execute_result"
    }
   ],
   "source": [
    "encoder.classes_"
   ]
  },
  {
   "cell_type": "code",
   "execution_count": 266,
   "metadata": {},
   "outputs": [
    {
     "name": "stdout",
     "output_type": "stream",
     "text": [
      "1/1 [==============================] - 0s 16ms/step\n"
     ]
    },
    {
     "data": {
      "text/plain": [
       "array([[2]])"
      ]
     },
     "execution_count": 266,
     "metadata": {},
     "output_type": "execute_result"
    }
   ],
   "source": [
    "prediction_results = model.predict(biking)\n",
    "prediction_results = np.argmax(prediction_results, axis=1, keepdims=True)\n",
    "prediction_results"
   ]
  },
  {
   "cell_type": "code",
   "execution_count": 267,
   "metadata": {},
   "outputs": [
    {
     "name": "stdout",
     "output_type": "stream",
     "text": [
      "1/1 [==============================] - 0s 12ms/step\n"
     ]
    },
    {
     "data": {
      "text/plain": [
       "array([[2]])"
      ]
     },
     "execution_count": 267,
     "metadata": {},
     "output_type": "execute_result"
    }
   ],
   "source": [
    "prediction_results = model.predict(walking)\n",
    "prediction_results = np.argmax(prediction_results, axis=1, keepdims=True)\n",
    "prediction_results"
   ]
  },
  {
   "cell_type": "code",
   "execution_count": 268,
   "metadata": {},
   "outputs": [
    {
     "name": "stdout",
     "output_type": "stream",
     "text": [
      "1/1 [==============================] - 0s 13ms/step\n"
     ]
    },
    {
     "data": {
      "text/plain": [
       "array([[1]])"
      ]
     },
     "execution_count": 268,
     "metadata": {},
     "output_type": "execute_result"
    }
   ],
   "source": [
    "prediction_results = model.predict(standing)\n",
    "prediction_results = np.argmax(prediction_results, axis=1, keepdims=True)\n",
    "prediction_results"
   ]
  },
  {
   "cell_type": "code",
   "execution_count": 269,
   "metadata": {},
   "outputs": [
    {
     "name": "stdout",
     "output_type": "stream",
     "text": [
      "1/1 [==============================] - 0s 12ms/step\n"
     ]
    },
    {
     "data": {
      "text/plain": [
       "array([[2]])"
      ]
     },
     "execution_count": 269,
     "metadata": {},
     "output_type": "execute_result"
    }
   ],
   "source": [
    "prediction_results = model.predict(jogging)\n",
    "prediction_results = np.argmax(prediction_results, axis=1, keepdims=True)\n",
    "prediction_results"
   ]
  },
  {
   "cell_type": "code",
   "execution_count": null,
   "metadata": {},
   "outputs": [],
   "source": []
  }
 ],
 "metadata": {
  "accelerator": "GPU",
  "colab": {
   "name": "Human_Activity_Recognition.ipynb",
   "provenance": [],
   "toc_visible": true
  },
  "kernelspec": {
   "display_name": "Python 3",
   "language": "python",
   "name": "python3"
  },
  "language_info": {
   "codemirror_mode": {
    "name": "ipython",
    "version": 3
   },
   "file_extension": ".py",
   "mimetype": "text/x-python",
   "name": "python",
   "nbconvert_exporter": "python",
   "pygments_lexer": "ipython3",
   "version": "3.10.8"
  },
  "vscode": {
   "interpreter": {
    "hash": "b0fa6594d8f4cbf19f97940f81e996739fb7646882a419484c72d19e05852a7e"
   }
  }
 },
 "nbformat": 4,
 "nbformat_minor": 1
}
